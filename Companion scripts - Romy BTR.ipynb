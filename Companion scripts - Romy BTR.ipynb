{
 "cells": [
  {
   "cell_type": "markdown",
   "metadata": {},
   "source": [
    "# Investigating possible NP effects in Rare $B$ meson decays using EOS"
   ]
  },
  {
   "cell_type": "markdown",
   "metadata": {},
   "source": [
    "### By Romy O'Connor, Maastricht University "
   ]
  },
  {
   "cell_type": "markdown",
   "metadata": {},
   "source": [
    "My thesis involves the investigation of New Physics in rare $B$ meson decays, specifically $B^0_s \\to \\mu^+ \\mu^-$ and $B \\to K^{(*)}\\mu^+\\mu^-$. This notebook serves as the companion scripts or methodolgy required to reproduce the fits presented in the paper.\n",
    "\n",
    "Anomalies in rare $B$ decays are presented as discrepancies between theory predictions dictated by the Standard Model and experimental measurments. An investigation into these discrepanices is made using EOS to characterise the suppression of these decays in the SM and to bring reason as to why they are interesting probes of New Physics."
   ]
  },
  {
   "cell_type": "markdown",
   "metadata": {},
   "source": [
    "## The preliminaries - loading the relevant packages"
   ]
  },
  {
   "cell_type": "code",
   "execution_count": 1,
   "metadata": {},
   "outputs": [],
   "source": [
    "import eos\n",
    "import numpy as np\n",
    "import matplotlib.pyplot as plt"
   ]
  },
  {
   "cell_type": "markdown",
   "metadata": {},
   "source": [
    "The first thing to do before making any type of analysis is to load the EOS package as well as anything else that may help you in your investigations. I have included NumPy and Matplotlib."
   ]
  },
  {
   "cell_type": "markdown",
   "metadata": {},
   "source": [
    "# 1. Beginning with $B^0_s \\to \\mu^+\\mu^-$"
   ]
  },
  {
   "cell_type": "markdown",
   "metadata": {},
   "source": [
    "My thesis involves three types of rare $B$ meson decays: one fully leptonic decay and two semileptonic decays. For a comprehensive overview, I will make three individual analyses starting with the fully leptonic $B^0_s \\to \\mu^+\\mu^-$."
   ]
  },
  {
   "cell_type": "markdown",
   "metadata": {},
   "source": [
    "## Listing the observables and making the manual constraints"
   ]
  },
  {
   "cell_type": "code",
   "execution_count": 2,
   "metadata": {},
   "outputs": [
    {
     "data": {
      "text/html": [
       "<table>\n",
       "  <tr><th style=\"text-align:left\" colspan=2><big>Observables in rare (semi)leptonic and radiative $b$-hadron decays</big></th></tr>\n",
       "    <tr><th style=\"text-align:left\" colspan=2>Observables in $B_q \\to \\ell^+\\ell^-$ decays</th></tr>\n",
       "      <tr><th><tt style=\"color:grey\">B_q->ll::A_DeltaGamma</tt></th><td style=\"text-align:left\">$$\\mathcal{A}_{\\Delta\\Gamma}(B_q \\to \\ell^+\\ell^-)$$</td></tr>      <tr><th><tt style=\"color:grey\">B_q->ll::BR</tt></th><td style=\"text-align:left\">$$\\mathcal{B}(B_q \\to \\ell^+\\ell^-)$$</td></tr>      <tr><th><tt style=\"color:grey\">B_q->ll::BR@Untagged</tt></th><td style=\"text-align:left\">$$\\left\\langle\\mathcal{B}(B_q \\to \\ell^+\\ell^-)\\right\\rangle$$</td></tr>      <tr><th><tt style=\"color:grey\">B_q->ll::S</tt></th><td style=\"text-align:left\">$$\\mathcal{S}(B_q \\to \\ell^+\\ell^-)$$</td></tr>      <tr><th><tt style=\"color:grey\">B_q->ll::eff_lifetime</tt></th><td style=\"text-align:left\">$$\\langle\\tau\\rangle(B_q \\to \\ell^+\\ell^-)$$</td></tr>    <tr><td style=\"text-align:left\" colspan=2>The option \"l\" selects the charged lepton flavour. The option \"q\" selects the spectator quark flavour.</td></tr>\n",
       "</table>"
      ],
      "text/plain": [
       "<eos.observable.Observables at 0x7f5aebaf6b58>"
      ]
     },
     "execution_count": 2,
     "metadata": {},
     "output_type": "execute_result"
    }
   ],
   "source": [
    "eos.Observables('B_q->ll')"
   ]
  },
  {
   "cell_type": "markdown",
   "metadata": {},
   "source": [
    "EOS allows us to view the observables specific to the decay of interest. The contraints of these observables can also be accessed using the input below."
   ]
  },
  {
   "cell_type": "code",
   "execution_count": 3,
   "metadata": {},
   "outputs": [
    {
     "data": {
      "text/html": [
       "<table>\n",
       "<tr><th style=\"text-align:left\">Name</th><th style=\"text-align:left\">Type</th></tr><tr><td><tt style=\"color:grey\">B^0_s->mu^+mu^-::BR@ATLAS-2018A</tt></td><td style=\"text-align:left\">Gaussian</td></tr><tr><td><tt style=\"color:grey\">B^0_s->mu^+mu^-::BR@CMS-2013B</tt></td><td style=\"text-align:left\">Amoroso (physical limit, theta, alpha, beta)</td></tr><tr><td><tt style=\"color:grey\">B^0_s->mu^+mu^-::BR@CMS-2016A</tt></td><td style=\"text-align:left\">Gaussian</td></tr><tr><td><tt style=\"color:grey\">B^0_s->mu^+mu^-::BR@CMS-2019A</tt></td><td style=\"text-align:left\">Gaussian</td></tr><tr><td><tt style=\"color:grey\">B^0_s->mu^+mu^-::BR@CMS-LHCb-2014</tt></td><td style=\"text-align:left\">Amoroso (physical limit, theta, alpha, beta)</td></tr><tr><td><tt style=\"color:grey\">B^0_s->mu^+mu^-::BR@LHCb-2013D</tt></td><td style=\"text-align:left\">Amoroso (physical limit, theta, alpha, beta)</td></tr><tr><td><tt style=\"color:grey\">B^0_s->mu^+mu^-::BR@LHCb-2017A</tt></td><td style=\"text-align:left\">Gaussian</td></tr></table>"
      ],
      "text/plain": [
       "<eos.constraint.Constraints at 0x7f5aeba891b8>"
      ]
     },
     "execution_count": 3,
     "metadata": {},
     "output_type": "execute_result"
    }
   ],
   "source": [
    "eos.Constraints('B^0_s->mu^+mu^-')"
   ]
  },
  {
   "cell_type": "markdown",
   "metadata": {},
   "source": [
    "These are the constraints that are listed (so far) in EOS. You can see that the constraints only involve the branching ratio, with the most recent measurments taken from CMS in 2019. Manual constraints can also be made. This is shown below to account for the most recent measurments taken for the branching ratio in 2021 [arXiv:2103.13370]"
   ]
  },
  {
   "cell_type": "code",
   "execution_count": 4,
   "metadata": {},
   "outputs": [
    {
     "data": {
      "text/plain": [
       "<_eos.ConstraintEntry at 0x7f5bc04055b0>"
      ]
     },
     "execution_count": 4,
     "metadata": {},
     "output_type": "execute_result"
    }
   ],
   "source": [
    "eos.Constraints().insert('B^0_s->mu^+mu^-::BR@LHCb-2021A', '''\n",
    "type: Gaussian\n",
    "observable: B_q->ll::BR@Untagged\n",
    "kinematics: {}\n",
    "options: {l: mu, q: s}\n",
    "mean: 3.09e-09\n",
    "sigma-stat: {hi: 0.46e-9, lo: 0.43e-9}\n",
    "sigma-sys:  {hi: 0.15e-9, lo: 0.11e-9}\n",
    "dof: 1\n",
    "''')"
   ]
  },
  {
   "cell_type": "markdown",
   "metadata": {},
   "source": [
    "This can not only be done for the branching ratio, but for other observables too. Take the effective lifetime, for example [arXiv:2103.13370]"
   ]
  },
  {
   "cell_type": "code",
   "execution_count": 5,
   "metadata": {},
   "outputs": [
    {
     "data": {
      "text/plain": [
       "<_eos.ConstraintEntry at 0x7f5bc0405710>"
      ]
     },
     "execution_count": 5,
     "metadata": {},
     "output_type": "execute_result"
    }
   ],
   "source": [
    "eos.Constraints().insert('B^0_s->mu^+mu^-::eff_lifetime@LHCb-2021A', '''\n",
    "type: Gaussian\n",
    "observable: B_q->ll::eff_lifetime\n",
    "kinematics: {}\n",
    "options: {l: mu, q: s}\n",
    "mean: 2.07e+12\n",
    "sigma-stat: {hi: 0.29e+12, lo: -0.29e+12}\n",
    "sigma-sys:  {hi: 0.03e+9, lo: -0.03e+9}\n",
    "dof: 1\n",
    "''')"
   ]
  },
  {
   "cell_type": "markdown",
   "metadata": {},
   "source": [
    "Now we have two manally inputted constraints involving the $B^0_s \\to \\mu^+ \\mu^-$ decay! These can be observed together by following the input below. We can see our manual constraints at the bottom of the list."
   ]
  },
  {
   "cell_type": "code",
   "execution_count": 6,
   "metadata": {},
   "outputs": [
    {
     "data": {
      "text/html": [
       "<table>\n",
       "<tr><th style=\"text-align:left\">Name</th><th style=\"text-align:left\">Type</th></tr><tr><td><tt style=\"color:grey\">B^0_s->mu^+mu^-::BR@ATLAS-2018A</tt></td><td style=\"text-align:left\">Gaussian</td></tr><tr><td><tt style=\"color:grey\">B^0_s->mu^+mu^-::BR@CMS-2013B</tt></td><td style=\"text-align:left\">Amoroso (physical limit, theta, alpha, beta)</td></tr><tr><td><tt style=\"color:grey\">B^0_s->mu^+mu^-::BR@CMS-2016A</tt></td><td style=\"text-align:left\">Gaussian</td></tr><tr><td><tt style=\"color:grey\">B^0_s->mu^+mu^-::BR@CMS-2019A</tt></td><td style=\"text-align:left\">Gaussian</td></tr><tr><td><tt style=\"color:grey\">B^0_s->mu^+mu^-::BR@CMS-LHCb-2014</tt></td><td style=\"text-align:left\">Amoroso (physical limit, theta, alpha, beta)</td></tr><tr><td><tt style=\"color:grey\">B^0_s->mu^+mu^-::BR@LHCb-2013D</tt></td><td style=\"text-align:left\">Amoroso (physical limit, theta, alpha, beta)</td></tr><tr><td><tt style=\"color:grey\">B^0_s->mu^+mu^-::BR@LHCb-2017A</tt></td><td style=\"text-align:left\">Gaussian</td></tr><tr><td><tt style=\"color:grey\">B^0_s->mu^+mu^-::BR@LHCb-2021A</tt></td><td style=\"text-align:left\">Gaussian</td></tr><tr><td><tt style=\"color:grey\">B^0_s->mu^+mu^-::eff_lifetime@LHCb-2021A</tt></td><td style=\"text-align:left\">Gaussian</td></tr></table>"
      ],
      "text/plain": [
       "<eos.constraint.Constraints at 0x7f5aeba89420>"
      ]
     },
     "execution_count": 6,
     "metadata": {},
     "output_type": "execute_result"
    }
   ],
   "source": [
    "eos.Constraints('B^0_s->mu^+mu^-')"
   ]
  },
  {
   "cell_type": "markdown",
   "metadata": {},
   "source": [
    "## Listing the relevant parameters"
   ]
  },
  {
   "cell_type": "markdown",
   "metadata": {},
   "source": [
    "To begin our investigation, the relevent parameters should first be evaluated. This can be done using the input:``eos.Parameters()``. This will display a long list of parameters associated with many different decays. To avoid scrolling through this long list, we can pin point the relevant ones to us using the command below. All of the parameters are in GeV, unless specified otherwise. There are quite a few parameters involved in the decay, but I think that it is usefull to identify them individually. It also allows the user to become better acquainted with EOS."
   ]
  },
  {
   "cell_type": "code",
   "execution_count": 7,
   "metadata": {},
   "outputs": [],
   "source": [
    "parameters = eos.Parameters()"
   ]
  },
  {
   "cell_type": "code",
   "execution_count": 8,
   "metadata": {},
   "outputs": [
    {
     "data": {
      "text/html": [
       "\n",
       "    <table>\n",
       "        <tr>\n",
       "            <th>$$m_t^{\\mathrm{pole}}$$</th>\n",
       "            <td>(eos.Parameter)</td>\n",
       "        </tr>\n",
       "        <tr>\n",
       "            <th>current value</th>\n",
       "            <td><tt>173.5</tt></td>\n",
       "        </tr>\n",
       "        <tr>\n",
       "            <th>default value</th>\n",
       "            <td><tt>173.5</tt></td>\n",
       "        </tr>\n",
       "    </table>"
      ],
      "text/plain": [
       "<_eos.Parameter at 0x7f5aec054b90>"
      ]
     },
     "execution_count": 8,
     "metadata": {},
     "output_type": "execute_result"
    }
   ],
   "source": [
    "parameters['mass::t(pole)']"
   ]
  },
  {
   "cell_type": "code",
   "execution_count": 9,
   "metadata": {},
   "outputs": [
    {
     "data": {
      "text/html": [
       "\n",
       "    <table>\n",
       "        <tr>\n",
       "            <th>$$f_{\\bar{B}_s^0}$$</th>\n",
       "            <td>(eos.Parameter)</td>\n",
       "        </tr>\n",
       "        <tr>\n",
       "            <th>current value</th>\n",
       "            <td><tt>0.2307</tt></td>\n",
       "        </tr>\n",
       "        <tr>\n",
       "            <th>default value</th>\n",
       "            <td><tt>0.2307</tt></td>\n",
       "        </tr>\n",
       "    </table>"
      ],
      "text/plain": [
       "<_eos.Parameter at 0x7f5aeba961d0>"
      ]
     },
     "execution_count": 9,
     "metadata": {},
     "output_type": "execute_result"
    }
   ],
   "source": [
    "parameters['decay-constant::B_s']"
   ]
  },
  {
   "cell_type": "code",
   "execution_count": 10,
   "metadata": {},
   "outputs": [
    {
     "data": {
      "text/html": [
       "\n",
       "    <table>\n",
       "        <tr>\n",
       "            <th>$$|V_{tb}|$$</th>\n",
       "            <td>(eos.Parameter)</td>\n",
       "        </tr>\n",
       "        <tr>\n",
       "            <th>current value</th>\n",
       "            <td><tt>1.0</tt></td>\n",
       "        </tr>\n",
       "        <tr>\n",
       "            <th>default value</th>\n",
       "            <td><tt>1.0</tt></td>\n",
       "        </tr>\n",
       "    </table>"
      ],
      "text/plain": [
       "<_eos.Parameter at 0x7f5aeba96098>"
      ]
     },
     "execution_count": 10,
     "metadata": {},
     "output_type": "execute_result"
    }
   ],
   "source": [
    "parameters['CKM::abs(V_tb)']"
   ]
  },
  {
   "cell_type": "code",
   "execution_count": 11,
   "metadata": {},
   "outputs": [
    {
     "data": {
      "text/html": [
       "\n",
       "    <table>\n",
       "        <tr>\n",
       "            <th>$$|V_{ts}|$$</th>\n",
       "            <td>(eos.Parameter)</td>\n",
       "        </tr>\n",
       "        <tr>\n",
       "            <th>current value</th>\n",
       "            <td><tt>0.04</tt></td>\n",
       "        </tr>\n",
       "        <tr>\n",
       "            <th>default value</th>\n",
       "            <td><tt>0.04</tt></td>\n",
       "        </tr>\n",
       "    </table>"
      ],
      "text/plain": [
       "<_eos.Parameter at 0x7f5aeba964a8>"
      ]
     },
     "execution_count": 11,
     "metadata": {},
     "output_type": "execute_result"
    }
   ],
   "source": [
    "parameters['CKM::abs(V_ts)']"
   ]
  },
  {
   "cell_type": "code",
   "execution_count": 12,
   "metadata": {},
   "outputs": [
    {
     "data": {
      "text/html": [
       "\n",
       "    <table>\n",
       "        <tr>\n",
       "            <th>$$\\mathrm{Re}\\, \\mathcal{C}_{10}^{(\\mu)}$$</th>\n",
       "            <td>(eos.Parameter)</td>\n",
       "        </tr>\n",
       "        <tr>\n",
       "            <th>current value</th>\n",
       "            <td><tt>-4.16611761</tt></td>\n",
       "        </tr>\n",
       "        <tr>\n",
       "            <th>default value</th>\n",
       "            <td><tt>-4.16611761</tt></td>\n",
       "        </tr>\n",
       "    </table>"
      ],
      "text/plain": [
       "<_eos.Parameter at 0x7f5aeba965e0>"
      ]
     },
     "execution_count": 12,
     "metadata": {},
     "output_type": "execute_result"
    }
   ],
   "source": [
    "parameters['b->smumu::Re{c10}']"
   ]
  },
  {
   "cell_type": "code",
   "execution_count": 13,
   "metadata": {},
   "outputs": [
    {
     "data": {
      "text/html": [
       "\n",
       "    <table>\n",
       "        <tr>\n",
       "            <th>$$\\mathrm{Re}\\, \\mathcal{C}_{S}^{(\\mu)}$$</th>\n",
       "            <td>(eos.Parameter)</td>\n",
       "        </tr>\n",
       "        <tr>\n",
       "            <th>current value</th>\n",
       "            <td><tt>0.0</tt></td>\n",
       "        </tr>\n",
       "        <tr>\n",
       "            <th>default value</th>\n",
       "            <td><tt>0.0</tt></td>\n",
       "        </tr>\n",
       "    </table>"
      ],
      "text/plain": [
       "<_eos.Parameter at 0x7f5aeba966b0>"
      ]
     },
     "execution_count": 13,
     "metadata": {},
     "output_type": "execute_result"
    }
   ],
   "source": [
    "parameters['b->smumu::Re{cS}']"
   ]
  },
  {
   "cell_type": "code",
   "execution_count": 14,
   "metadata": {},
   "outputs": [
    {
     "data": {
      "text/html": [
       "\n",
       "    <table>\n",
       "        <tr>\n",
       "            <th>$$\\mathrm{Re}\\, \\mathcal{C}_{P}^{(\\mu)}$$</th>\n",
       "            <td>(eos.Parameter)</td>\n",
       "        </tr>\n",
       "        <tr>\n",
       "            <th>current value</th>\n",
       "            <td><tt>0.0</tt></td>\n",
       "        </tr>\n",
       "        <tr>\n",
       "            <th>default value</th>\n",
       "            <td><tt>0.0</tt></td>\n",
       "        </tr>\n",
       "    </table>"
      ],
      "text/plain": [
       "<_eos.Parameter at 0x7f5aeba96440>"
      ]
     },
     "execution_count": 14,
     "metadata": {},
     "output_type": "execute_result"
    }
   ],
   "source": [
    "parameters['b->smumu::Re{cP}']"
   ]
  },
  {
   "cell_type": "code",
   "execution_count": 15,
   "metadata": {},
   "outputs": [
    {
     "data": {
      "text/html": [
       "\n",
       "    <table>\n",
       "        <tr>\n",
       "            <th>$$m_{B^0_s}$$</th>\n",
       "            <td>(eos.Parameter)</td>\n",
       "        </tr>\n",
       "        <tr>\n",
       "            <th>current value</th>\n",
       "            <td><tt>5.36688</tt></td>\n",
       "        </tr>\n",
       "        <tr>\n",
       "            <th>default value</th>\n",
       "            <td><tt>5.36688</tt></td>\n",
       "        </tr>\n",
       "    </table>"
      ],
      "text/plain": [
       "<_eos.Parameter at 0x7f5aeba96780>"
      ]
     },
     "execution_count": 15,
     "metadata": {},
     "output_type": "execute_result"
    }
   ],
   "source": [
    "parameters['mass::B_s']"
   ]
  },
  {
   "cell_type": "code",
   "execution_count": 16,
   "metadata": {},
   "outputs": [
    {
     "data": {
      "text/html": [
       "\n",
       "    <table>\n",
       "        <tr>\n",
       "            <th>$$M_W$$</th>\n",
       "            <td>(eos.Parameter)</td>\n",
       "        </tr>\n",
       "        <tr>\n",
       "            <th>current value</th>\n",
       "            <td><tt>80.385</tt></td>\n",
       "        </tr>\n",
       "        <tr>\n",
       "            <th>default value</th>\n",
       "            <td><tt>80.385</tt></td>\n",
       "        </tr>\n",
       "    </table>"
      ],
      "text/plain": [
       "<_eos.Parameter at 0x7f5aeba96850>"
      ]
     },
     "execution_count": 16,
     "metadata": {},
     "output_type": "execute_result"
    }
   ],
   "source": [
    "parameters['mass::W']"
   ]
  },
  {
   "cell_type": "code",
   "execution_count": 17,
   "metadata": {},
   "outputs": [
    {
     "data": {
      "text/html": [
       "\n",
       "    <table>\n",
       "        <tr>\n",
       "            <th>$$M_Z$$</th>\n",
       "            <td>(eos.Parameter)</td>\n",
       "        </tr>\n",
       "        <tr>\n",
       "            <th>current value</th>\n",
       "            <td><tt>91.1876</tt></td>\n",
       "        </tr>\n",
       "        <tr>\n",
       "            <th>default value</th>\n",
       "            <td><tt>91.1876</tt></td>\n",
       "        </tr>\n",
       "    </table>"
      ],
      "text/plain": [
       "<_eos.Parameter at 0x7f5aeba96920>"
      ]
     },
     "execution_count": 17,
     "metadata": {},
     "output_type": "execute_result"
    }
   ],
   "source": [
    "parameters['mass::Z']"
   ]
  },
  {
   "cell_type": "code",
   "execution_count": 18,
   "metadata": {},
   "outputs": [
    {
     "data": {
      "text/html": [
       "\n",
       "    <table>\n",
       "        <tr>\n",
       "            <th>$$\\tau_{B_s}$$</th>\n",
       "            <td>(eos.Parameter)</td>\n",
       "        </tr>\n",
       "        <tr>\n",
       "            <th>current value</th>\n",
       "            <td><tt>1.516e-12</tt></td>\n",
       "        </tr>\n",
       "        <tr>\n",
       "            <th>default value</th>\n",
       "            <td><tt>1.516e-12</tt></td>\n",
       "        </tr>\n",
       "    </table>"
      ],
      "text/plain": [
       "<_eos.Parameter at 0x7f5aeba969f0>"
      ]
     },
     "execution_count": 18,
     "metadata": {},
     "output_type": "execute_result"
    }
   ],
   "source": [
    "parameters['life_time::B_s']"
   ]
  },
  {
   "cell_type": "markdown",
   "metadata": {},
   "source": [
    "## Evaluating the options"
   ]
  },
  {
   "cell_type": "markdown",
   "metadata": {},
   "source": [
    "When making plots or any sort of evaluation in EOS, one can choose to include `Options`. This allows us to modify the behaviour of the decay, more specifically the parameters at hand. We will be using the `WilsonScan`,`ConstrainedWilsonScan` and `SM` models to parametrize the Wilson coefficients  $C_{10}$ ,  $C_S$  &  $C_P$  for the WET, as well as the inference of $m_t$ from $C_{10}$ and the branching ratio. "
   ]
  },
  {
   "cell_type": "markdown",
   "metadata": {},
   "source": [
    "## Theoretical predictions of the observables"
   ]
  },
  {
   "cell_type": "markdown",
   "metadata": {},
   "source": [
    "It is interesting to note how certain coefficients or observables behave in the SM. It also forces us to ask the question of why certain components do not contribute at all or are suppressed... perhaps they contribute differently at energy scales beyond the Standard Model? This could suggest that aspects of the decays contain hints this New Physics behavior beyond the Standard Model."
   ]
  },
  {
   "cell_type": "code",
   "execution_count": 19,
   "metadata": {},
   "outputs": [
    {
     "data": {
      "text/html": [
       "\n",
       "        <table>\n",
       "            <tr>\n",
       "                <th>B_q->ll::BR</th>\n",
       "                <td colspan=\"2\">(eos.Observable)</td>\n",
       "            </tr>\n",
       "            <tr>\n",
       "                <th rowspan=\"1\">kinematics</th>\n",
       "                <td colspan=2>none</td>\n",
       "            </tr>\n",
       "            \n",
       "            <tr>\n",
       "                <th rowspan=\"3\">options</th>\n",
       "                <th>l</th><td>mu</td>\n",
       "            </tr>\n",
       "            <tr><th>model</th><td>SM</td></tr>\n",
       "<tr><th>q</th><td>s</td></tr>\n",
       "            <tr>\n",
       "                <th>current value</th>\n",
       "                <td colspan=\"2\"><tt>3.348e-09</tt></td>\n",
       "            </tr>\n",
       "        </table>"
      ],
      "text/plain": [
       "<_eos.Observable at 0x7f5aeba93920>"
      ]
     },
     "metadata": {},
     "output_type": "display_data"
    }
   ],
   "source": [
    "BranchingRatio = eos.Observable.make('B_q->ll::BR',\n",
    "        eos.Parameters(),\n",
    "        eos.Kinematics(),\n",
    "        eos.Options(model= 'SM',q='s', l='mu')\n",
    ")\n",
    "display(BranchingRatio)"
   ]
  },
  {
   "cell_type": "code",
   "execution_count": 20,
   "metadata": {},
   "outputs": [
    {
     "data": {
      "text/html": [
       "\n",
       "        <table>\n",
       "            <tr>\n",
       "                <th>B_q->ll::eff_lifetime</th>\n",
       "                <td colspan=\"2\">(eos.Observable)</td>\n",
       "            </tr>\n",
       "            <tr>\n",
       "                <th rowspan=\"1\">kinematics</th>\n",
       "                <td colspan=2>none</td>\n",
       "            </tr>\n",
       "            \n",
       "            <tr>\n",
       "                <th rowspan=\"3\">options</th>\n",
       "                <th>l</th><td>mu</td>\n",
       "            </tr>\n",
       "            <tr><th>model</th><td>SM</td></tr>\n",
       "<tr><th>q</th><td>s</td></tr>\n",
       "            <tr>\n",
       "                <th>current value</th>\n",
       "                <td colspan=\"2\"><tt>2.454e+12</tt></td>\n",
       "            </tr>\n",
       "        </table>"
      ],
      "text/plain": [
       "<_eos.Observable at 0x7f5aeba939d0>"
      ]
     },
     "metadata": {},
     "output_type": "display_data"
    }
   ],
   "source": [
    "EffectiveLifetime = eos.Observable.make('B_q->ll::eff_lifetime',\n",
    "        eos.Parameters(),\n",
    "        eos.Kinematics(),\n",
    "        eos.Options(model='SM',q='s', l='mu')\n",
    ")\n",
    "display(EffectiveLifetime)"
   ]
  },
  {
   "cell_type": "code",
   "execution_count": 21,
   "metadata": {
    "scrolled": true
   },
   "outputs": [
    {
     "data": {
      "text/html": [
       "\n",
       "        <table>\n",
       "            <tr>\n",
       "                <th>B_q->ll::A_DeltaGamma</th>\n",
       "                <td colspan=\"2\">(eos.Observable)</td>\n",
       "            </tr>\n",
       "            <tr>\n",
       "                <th rowspan=\"1\">kinematics</th>\n",
       "                <td colspan=2>none</td>\n",
       "            </tr>\n",
       "            \n",
       "            <tr>\n",
       "                <th rowspan=\"3\">options</th>\n",
       "                <th>l</th><td>mu</td>\n",
       "            </tr>\n",
       "            <tr><th>model</th><td>SM</td></tr>\n",
       "<tr><th>q</th><td>s</td></tr>\n",
       "            <tr>\n",
       "                <th>current value</th>\n",
       "                <td colspan=\"2\"><tt>1</tt></td>\n",
       "            </tr>\n",
       "        </table>"
      ],
      "text/plain": [
       "<_eos.Observable at 0x7f5aeba93a28>"
      ]
     },
     "metadata": {},
     "output_type": "display_data"
    }
   ],
   "source": [
    "CPAsymmetry = eos.Observable.make('B_q->ll::A_DeltaGamma',\n",
    "        eos.Parameters(),\n",
    "        eos.Kinematics(),\n",
    "        eos.Options(model='SM',q='s', l='mu')\n",
    ")\n",
    "display(CPAsymmetry)"
   ]
  },
  {
   "cell_type": "markdown",
   "metadata": {},
   "source": [
    "## 1D fits: Variation of the  branching ratio with  $Re(\\mathcal{C}_{10})$ and the scalar and pseudoscalar operators"
   ]
  },
  {
   "cell_type": "markdown",
   "metadata": {},
   "source": [
    "Using the plot type 'observable' we can easily see in the SM how the relevant Wilson coefficients are constrained when plotted against the branching ratio."
   ]
  },
  {
   "cell_type": "markdown",
   "metadata": {},
   "source": [
    "### 1. $\\rm{Re}(\\mathcal{C}_{10})$ and the branching ratio"
   ]
  },
  {
   "cell_type": "code",
   "execution_count": 22,
   "metadata": {},
   "outputs": [
    {
     "name": "stderr",
     "output_type": "stream",
     "text": [
      "WARNING:EOS:Argument plot:x:format is only used when plot:x:scale is used\n",
      "INFO:EOS:   plotting EOS observable \"B_q->ll::BR;l=mu,q=s,model=WilsonScan\"\n",
      "WARNING:matplotlib.font_manager:findfont: Font family ['serif'] not found. Falling back to DejaVu Sans.\n"
     ]
    },
    {
     "data": {
      "image/png": "[encoded data removed]",
      "text/plain": [
       "<Figure size 432x288 with 1 Axes>"
      ]
     },
     "metadata": {},
     "output_type": "display_data"
    }
   ],
   "source": [
    "plot_args={\n",
    "    'plot': {\n",
    "        'x': { 'label': r'$\\rm{Re}(C_{10})$', 'range': [-8, 8.0], 'format': '${x:.0f}$'},\n",
    "        'y': { 'label': r'$\\mathcal{B}(B^0_s\\to\\mu^+\\mu^-)\\times{10}^{-9}$', 'range': [0.0e-9,  5e-9], 'format': '${x:.2f}$', 'scale':1e-9},\n",
    "        'legend': { 'location': 'lower left' }\n",
    "    },\n",
    "    'contents': [\n",
    "        {\n",
    "            \n",
    "            'type': 'observable',\n",
    "            'observable': 'B_q->ll::BR;l=mu,q=s,model=WilsonScan',\n",
    "            'parameter': 'b->smumu::Re{c10}',\n",
    "            'color': 'black',\n",
    "            'range': [-8, 8.0],\n",
    "        },\n",
    "\n",
    "        {\n",
    "          'label': r'$1\\sigma$ LHCb constraint', 'type': 'constraint2D','color':'C2',\n",
    "          'constraint': 'B^0_s->mu^+mu^-::BR@LHCb-2021A',\n",
    "          'y': {\n",
    "              'observable': 'B_q->ll::BR@Untagged',\n",
    "              'options': {'q': 's', 'l': 'mu'}\n",
    "          }\n",
    "        },\n",
    "\n",
    "    ]\n",
    "}\n",
    "eos.plot.Plotter(plot_args,'SM_BRC10.png').plot()"
   ]
  },
  {
   "cell_type": "markdown",
   "metadata": {},
   "source": [
    "The green band shows the experiementally allowed region of $1\\sigma$."
   ]
  },
  {
   "cell_type": "markdown",
   "metadata": {},
   "source": [
    "### 2. $\\rm{Re}(\\mathcal{C}_{S})$  (unconstrained) and the branching ratio"
   ]
  },
  {
   "cell_type": "code",
   "execution_count": 23,
   "metadata": {},
   "outputs": [
    {
     "name": "stderr",
     "output_type": "stream",
     "text": [
      "WARNING:EOS:Argument plot:x:format is only used when plot:x:scale is used\n",
      "INFO:EOS:   plotting EOS observable \"B_q->ll::BR;l=mu,q=s,model=WilsonScan\"\n"
     ]
    },
    {
     "data": {
      "image/png": "[encoded data removed]",
      "text/plain": [
       "<Figure size 432x288 with 1 Axes>"
      ]
     },
     "metadata": {},
     "output_type": "display_data"
    }
   ],
   "source": [
    "plot_args = {\n",
    "    'plot': {\n",
    "        'x': { 'label': r'$\\rm{Re}(C_{S})$', 'range': [-0.25, 0.25], 'format': '${x:.0f}$'},\n",
    "        'y': { 'label': r'$\\mathcal{B}(B^0_s\\to\\mu^+\\mu^-)\\times{10}^{-9}$',  'range': [0.0e-9,  5.0e-9], 'format': '${x:.2f}$', 'scale':1e-9},\n",
    "        'legend': { 'location': 'lower left' }\n",
    "    },\n",
    "    'contents': [\n",
    "        {\n",
    "            \n",
    "            'type': 'observable',\n",
    "            'observable': 'B_q->ll::BR;l=mu,q=s,model=WilsonScan',\n",
    "            'parameter': 'b->smumu::Re{cS}',\n",
    "            'color': 'black',\n",
    "            'range': [-0.5, 0.5],\n",
    "        },\n",
    "\n",
    "        {\n",
    "          'label': r'$1\\sigma$ LHCb constraint', 'type': 'constraint2D','color':'C2',\n",
    "          'constraint': 'B^0_s->mu^+mu^-::BR@LHCb-2021A',\n",
    "          'y': {\n",
    "              'observable': 'B_q->ll::BR@Untagged',\n",
    "              'options': {'q': 's', 'l': 'mu'}\n",
    "          }\n",
    "       },\n",
    "\n",
    "    ]\n",
    "}\n",
    "eos.plot.Plotter(plot_args, 'SM_BRCS.png').plot()"
   ]
  },
  {
   "cell_type": "markdown",
   "metadata": {},
   "source": [
    "### 3.  $\\rm{Re}(\\mathcal{C}_{S})$ (constrained) and the branching ratio"
   ]
  },
  {
   "cell_type": "code",
   "execution_count": 24,
   "metadata": {},
   "outputs": [
    {
     "name": "stderr",
     "output_type": "stream",
     "text": [
      "WARNING:EOS:Argument plot:x:format is only used when plot:x:scale is used\n",
      "INFO:EOS:   plotting EOS observable \"B_q->ll::BR;l=mu,q=s,model=ConstrainedWilsonScan\"\n"
     ]
    },
    {
     "data": {
      "image/png": "[encoded data removed]",
      "text/plain": [
       "<Figure size 432x288 with 1 Axes>"
      ]
     },
     "metadata": {},
     "output_type": "display_data"
    }
   ],
   "source": [
    "plot_args = {\n",
    "    'plot': {\n",
    "        'x': { 'label': r'$C_{S}=-C_{P}$', 'range': [-0.25, 0.25], 'format': '${x:.0f}$'},\n",
    "        'y': { 'label': r'$\\mathcal{B}(B^0_s\\to\\mu^+\\mu^-)\\times{10}^{-9}$',  'range': [0.0e-9,  5.0e-9], 'format': '${x:.2f}$', 'scale':1e-9},\n",
    "        'legend': { 'location': 'lower left' }\n",
    "    },\n",
    "    'contents': [\n",
    "        {\n",
    "            \n",
    "            'type': 'observable', \n",
    "            'observable': 'B_q->ll::BR;l=mu,q=s,model=ConstrainedWilsonScan',\n",
    "            'parameter': 'b->smumu::Re{cS}',\n",
    "            'color': 'black',\n",
    "            'range': [-0.5, 0.5],\n",
    "        },\n",
    "         {\n",
    "        \n",
    "          'label': r'$1\\sigma$ LHCb constraint', 'type': 'constraint2D','color':'C2',\n",
    "          'constraint': 'B^0_s->mu^+mu^-::BR@LHCb-2021A',\n",
    "          'y': {\n",
    "              'observable': 'B_q->ll::BR@Untagged',\n",
    "              'options': {'q': 's', 'l': 'mu'}\n",
    "          }\n",
    "           \n",
    "        },\n",
    "\n",
    "    ]\n",
    "}\n",
    "eos.plot.Plotter(plot_args,'SM_BRCSconstrained.png').plot()"
   ]
  },
  {
   "cell_type": "markdown",
   "metadata": {},
   "source": [
    "### 4. $\\rm{Re}(\\mathcal{C}_{P})$ (unconstrained) and the branching ratio"
   ]
  },
  {
   "cell_type": "code",
   "execution_count": 25,
   "metadata": {},
   "outputs": [
    {
     "name": "stderr",
     "output_type": "stream",
     "text": [
      "WARNING:EOS:Argument plot:x:format is only used when plot:x:scale is used\n",
      "INFO:EOS:   plotting EOS observable \"B_q->ll::BR;l=mu,q=s,model=WilsonScan\"\n"
     ]
    },
    {
     "data": {
      "image/png": "[encoded data removed]",
      "text/plain": [
       "<Figure size 432x288 with 1 Axes>"
      ]
     },
     "metadata": {},
     "output_type": "display_data"
    }
   ],
   "source": [
    "plot_args = {\n",
    "    'plot': {\n",
    "        'x': { 'label': r'$\\rm{Re}(C_{P})$', 'range': [-0.25, 0.35], 'format': '${x:.0f}$'},\n",
    "        'y': { 'label': r'$\\mathcal{B}(B^0_s\\to\\mu^+\\mu^-)\\times{10}^{-9}$',  'range': [0.0e-9,  5.0e-9], 'format': '${x:.2f}$', 'scale':1e-9},\n",
    "        'legend': { 'location': 'lower left' }\n",
    "    },\n",
    "    'contents': [\n",
    "        {\n",
    "            \n",
    "            'type': 'observable',\n",
    "            'observable': 'B_q->ll::BR;l=mu,q=s,model=WilsonScan',\n",
    "            'parameter': 'b->smumu::Re{cP}',\n",
    "            'color': 'black',\n",
    "            'range': [-0.5, 0.5],\n",
    "        },\n",
    "\n",
    "        {\n",
    "          'label': r'$1\\sigma$ LHCb constraint', 'type': 'constraint2D','color':'C2',\n",
    "          'constraint': 'B^0_s->mu^+mu^-::BR@LHCb-2021A',\n",
    "          'y': {\n",
    "              'observable': 'B_q->ll::BR@Untagged',\n",
    "              'options': {'q': 's', 'l': 'mu'}\n",
    "          }\n",
    "       },\n",
    "\n",
    "    ]\n",
    "}\n",
    "eos.plot.Plotter(plot_args, 'SM_BRCP.png').plot()"
   ]
  },
  {
   "cell_type": "markdown",
   "metadata": {},
   "source": [
    "### 5. $\\rm{Re}(\\mathcal{C'}_{P})$ (constrained) and the branching ratio"
   ]
  },
  {
   "cell_type": "code",
   "execution_count": 26,
   "metadata": {},
   "outputs": [
    {
     "name": "stderr",
     "output_type": "stream",
     "text": [
      "WARNING:EOS:Argument plot:x:format is only used when plot:x:scale is used\n",
      "INFO:EOS:   plotting EOS observable \"B_q->ll::BR;l=mu,q=s,model=WilsonScan\"\n"
     ]
    },
    {
     "data": {
      "image/png": "[encoded data removed]",
      "text/plain": [
       "<Figure size 432x288 with 1 Axes>"
      ]
     },
     "metadata": {},
     "output_type": "display_data"
    }
   ],
   "source": [
    "plot_args = {\n",
    "    'plot': {\n",
    "        'x': { 'label': r\"$\\mathcal{C}_{S}^{'} = \\mathcal{C}_{P}^{'}$\", 'range': [-0.35, 0.2], 'format': '${x:.0f}$'},\n",
    "        'y': { 'label': r'$\\mathcal{B}(B^0_s\\to\\mu^+\\mu^-)\\times{10}^{-9}$',  'range': [0.0e-9,  5.0e-9], 'format': '${x:.2f}$', 'scale':1e-9},\n",
    "        'legend': { 'location': 'lower right' }\n",
    "    },\n",
    "    'contents': [\n",
    "        {\n",
    "            \n",
    "            'type': 'observable',\n",
    "            'observable': 'B_q->ll::BR;l=mu,q=s,model=WilsonScan',\n",
    "            'parameter': \"b->smumu::Re{cP'}\",\n",
    "            'color': 'black',\n",
    "            'range': [-0.5, 0.5],\n",
    "        },\n",
    "\n",
    "        {\n",
    "          'label': r'$1\\sigma$ LHCb constraint', 'type': 'constraint2D','color':'C2',\n",
    "          'constraint': 'B^0_s->mu^+mu^-::BR@LHCb-2021A',\n",
    "          'y': {\n",
    "              'observable': 'B_q->ll::BR@Untagged',\n",
    "              'options': {'q': 's', 'l': 'mu'}\n",
    "          }\n",
    "       },\n",
    "\n",
    "    ]\n",
    "}\n",
    "eos.plot.Plotter(plot_args, 'SM_BRCPconstrained.png').plot()"
   ]
  },
  {
   "cell_type": "markdown",
   "metadata": {},
   "source": [
    "# Creating a statistical analysis: Posterior inference"
   ]
  },
  {
   "cell_type": "markdown",
   "metadata": {},
   "source": [
    "This section of the notebook involves finding $m_t$ from the given constraints of the branching ratio. We infer the mean value and its standard deviation. We can create an analysis by following the input below."
   ]
  },
  {
   "cell_type": "code",
   "execution_count": 27,
   "metadata": {},
   "outputs": [
    {
     "name": "stderr",
     "output_type": "stream",
     "text": [
      "INFO:EOS:Creating analysis with 1 priors, 3 EOS-wide constraints, 1 global options, 0 manually-entered constraints and 0 fixed parameters.\n",
      "INFO:EOS:likelihood probably depends on 28 parameter(s) that do not appear in the prior; check prior?\n"
     ]
    }
   ],
   "source": [
    "analysis_args = {\n",
    "    'global_options': { 'model': 'SM' },\n",
    "    'priors': [\n",
    "        {'parameter':'mass::t(pole)', 'min': 120.0, 'max': 200.0, 'type': 'uniform'},\n",
    "\n",
    "    ],\n",
    "    'likelihood': [\n",
    "        'B^0_s->mu^+mu^-::BR@ATLAS-2018A',\n",
    "        'B^0_s->mu^+mu^-::BR@CMS-2019A'  ,\n",
    "        'B^0_s->mu^+mu^-::BR@LHCb-2017A',\n",
    "    ]\n",
    "}\n",
    "analysis = eos.Analysis(**analysis_args)\n",
    "analysis.parameters['mass::t(pole)'].set(100)"
   ]
  },
  {
   "cell_type": "markdown",
   "metadata": {},
   "source": [
    "For the top mass inference the `SM` model is used to provide parameteric access to the mass through the parameter type `mass::t(pole)`. This is the Bayesian prior and the likelihood is the constraints of the branching ratio from ATLAS, CMS and LHCb experimental measurments."
   ]
  },
  {
   "cell_type": "markdown",
   "metadata": {},
   "source": [
    "Using `analysis.optimize` we can get the best fit point of $m_t$:"
   ]
  },
  {
   "cell_type": "code",
   "execution_count": 28,
   "metadata": {},
   "outputs": [
    {
     "name": "stderr",
     "output_type": "stream",
     "text": [
      "INFO:EOS:Optimization goal achieved after 20 function evaluations\n"
     ]
    },
    {
     "data": {
      "text/html": [
       "<table>\n",
       "<tr><th>parameter</th><th>value</th></tr>\n",
       "<tr><td>$m_t^{\\mathrm{pole}}$</td><td>162.3846</td></tr></table>"
      ],
      "text/plain": [
       "<eos.analysis.BestFitPoint at 0x7f5b7a3b8e80>"
      ]
     },
     "metadata": {},
     "output_type": "display_data"
    },
    {
     "data": {
      "text/html": [
       "<table>\n",
       "<tr><th>constraint</th><th>&chi;<sup>2</sup></th><th>d.o.f.</th></tr>\n",
       "<tr><td><tt>B^0_s->mu^+mu^-::BR@ATLAS-2018A</tt></td><td>0.0209</td><td>1</td></tr>\n",
       "<tr><td><tt>B^0_s->mu^+mu^-::BR@CMS-2019A</tt></td><td>0.0005</td><td>1</td></tr>\n",
       "<tr><td><tt>B^0_s->mu^+mu^-::BR@LHCb-2017A</tt></td><td>0.0177</td><td>1</td></tr>\n",
       "</table><br/>\n",
       "<table>\n",
       "<tr><th>total &chi;<sup>2</sup></th><td>0.0391</td></tr>\n",
       "<tr><th>total degrees of freedom</th><td>2</td></tr>\n",
       "<tr><th>p-value</th><td>98.0616%</td></tr>\n",
       "</table>\n"
      ],
      "text/plain": [
       "<_eos.GoodnessOfFit at 0x7f5b7a3d4c38>"
      ]
     },
     "metadata": {},
     "output_type": "display_data"
    }
   ],
   "source": [
    "bfp = analysis.optimize()\n",
    "display(bfp)\n",
    "display(analysis.goodness_of_fit())"
   ]
  },
  {
   "cell_type": "markdown",
   "metadata": {},
   "source": [
    "Next we can sample from the posterior which means that we can obtain posterior estimates for the top mass. The Markov chain Monte Carlo method samples from this posterior distribution. "
   ]
  },
  {
   "cell_type": "code",
   "execution_count": 29,
   "metadata": {},
   "outputs": [
    {
     "name": "stderr",
     "output_type": "stream",
     "text": [
      "INFO:EOS:Prerun 0 out of 5\n",
      "INFO:EOS:Prerun 0: acceptance rate is  70%\n",
      "INFO:EOS:Prerun 1 out of 5\n",
      "INFO:EOS:Prerun 1: acceptance rate is  38%\n",
      "INFO:EOS:Prerun 2 out of 5\n",
      "INFO:EOS:Prerun 2: acceptance rate is  33%\n",
      "INFO:EOS:Prerun 3 out of 5\n",
      "INFO:EOS:Prerun 3: acceptance rate is  33%\n",
      "INFO:EOS:Prerun 4 out of 5\n",
      "INFO:EOS:Prerun 4: acceptance rate is  34%\n",
      "INFO:EOS:Main run: started ...\n",
      "INFO:EOS:Main run: acceptance rate is  33%\n"
     ]
    }
   ],
   "source": [
    "param_values  = np.unique(np.concatenate((np.linspace(0.02,  1.00, 20), np.linspace(1.00, 11.60, 20))))\n",
    "mu_obs       = [eos.Observable.make(\n",
    "                  'B_q->ll::BR', analysis.parameters, eos.Kinematics(),\n",
    "                  options=eos.Options(l='mu',q='s',model='SM'))]\n",
    "parameter_samples, log_weights, mu_samples  = analysis.sample(N=20000, stride=5, pre_N=1000, preruns=5, start_point=bfp.point, observables=mu_obs)"
   ]
  },
  {
   "cell_type": "markdown",
   "metadata": {},
   "source": [
    "Using the above we produced posterior-predictive samples for the branching ratio. The inclusion of 20,000 samples with stride 5 means that 100,000 samples are produced, improving the overall quality of the returned samples. The values for the posterior are generated using `log_weights` and the posterior predictive samples for the branching ratio is generated using `mu_samples`."
   ]
  },
  {
   "cell_type": "markdown",
   "metadata": {},
   "source": [
    "Now we can visualise the distribution of samples using the above! $m_t$ can be inspected using a histogram and kernel densitiy estimate. "
   ]
  },
  {
   "cell_type": "code",
   "execution_count": 30,
   "metadata": {},
   "outputs": [
    {
     "data": {
      "image/png": "[encoded data removed]",
      "text/plain": [
       "<Figure size 432x288 with 1 Axes>"
      ]
     },
     "metadata": {},
     "output_type": "display_data"
    }
   ],
   "source": [
    "plot_args = {\n",
    "    'plot': {\n",
    "        'x': { 'label': r'$m_t$','unit': r'$\\rm{GeV}$', 'range': [140, 180] },\n",
    "        'legend': { 'location': 'upper left' }\n",
    "    },\n",
    "    'contents': [\n",
    "        {\n",
    "            'type': 'histogram','label':'$m_t$ samples',\n",
    "            'data': { 'samples': parameter_samples[:, 0], 'log_weights': log_weights }\n",
    "        },\n",
    "        {\n",
    "            'type': 'kde', 'color': 'C0', 'label': 'posterior', 'bandwidth': 2,\n",
    "            'range': [140, 180],\n",
    "            'data': { 'samples': parameter_samples[:, 0], 'log_weights': log_weights }\n",
    "        },\n",
    "            \n",
    "        \n",
    "    ]\n",
    "}\n",
    "eos.plot.Plotter(plot_args, 'topmassinference.png').plot()"
   ]
  },
  {
   "cell_type": "markdown",
   "metadata": {},
   "source": [
    "## 2D fits: Investigating the deviations from Standard Model predictions - fits to Wilson coefficients"
   ]
  },
  {
   "cell_type": "markdown",
   "metadata": {},
   "source": [
    "In this section of the notebook, experimental and theoretical correlations between different observables and Wilson coefficients are made. We focus on their theoretical uncertainties and their sensitivity to New Physics. In order to fully investigate the effects of NP global fits should be made. In the case of this thesis an example of a 'global fit' is illustrated. \n",
    "\n",
    "Before every plot an analysis is made. The global options ensure that our choice of Wilson coefficient parameterization is used throughout, and because we are using the coefficients, the ``WilsonScan`` model is used throughout. In the case of the (pseudo)scalar coefficients, ``ConstrainedWilsonScan`` is used.  We provide the parameters in our analysis through the specifications of the Bayesian priors. The likelihood is defined through a list of constraints, which includes our manually inputted BR constraints from LHCb 2021, aswell as CMS and ATLAS measurments from 2019 and 2018. It is important to note that in order to made a good analysis, you should include more likelihoods than parameters. We will not include both BR constraints from LHCb 2017 and 2021 in one analysis because the 2021 BR measurment is a combination of both."
   ]
  },
  {
   "cell_type": "markdown",
   "metadata": {},
   "source": [
    "### 1. $C_S$, $C_{10}$ and the branching ratio (unconstrained)"
   ]
  },
  {
   "cell_type": "code",
   "execution_count": 31,
   "metadata": {},
   "outputs": [
    {
     "name": "stderr",
     "output_type": "stream",
     "text": [
      "INFO:EOS:Creating analysis with 2 priors, 1 EOS-wide constraints, 1 global options, 0 manually-entered constraints and 0 fixed parameters.\n",
      "INFO:EOS:likelihood probably depends on 136 parameter(s) that do not appear in the prior; check prior?\n",
      "INFO:EOS:Creating analysis with 2 priors, 1 EOS-wide constraints, 1 global options, 0 manually-entered constraints and 0 fixed parameters.\n",
      "INFO:EOS:likelihood probably depends on 136 parameter(s) that do not appear in the prior; check prior?\n",
      "INFO:EOS:Creating analysis with 2 priors, 1 EOS-wide constraints, 1 global options, 0 manually-entered constraints and 0 fixed parameters.\n",
      "INFO:EOS:likelihood probably depends on 136 parameter(s) that do not appear in the prior; check prior?\n",
      "INFO:EOS:Creating analysis with 2 priors, 3 EOS-wide constraints, 1 global options, 0 manually-entered constraints and 0 fixed parameters.\n",
      "INFO:EOS:likelihood probably depends on 136 parameter(s) that do not appear in the prior; check prior?\n"
     ]
    }
   ],
   "source": [
    "LHCb_analysis_args={\n",
    "    'global_options':{'model':'WilsonScan'},\n",
    "    'priors':[\n",
    "        {'parameter':'b->smumu::Re{c10}','min':-8,'max':+8,'type':'uniform'},\n",
    "        {'parameter': 'b->smumu::Re{cS}','min':-5, 'max':+5, 'type': 'uniform'},\n",
    "    ],\n",
    "    'likelihood':[\n",
    "        'B^0_s->mu^+mu^-::BR@LHCb-2021A'      \n",
    "    ]\n",
    "}\n",
    "CMS_analysis_args={\n",
    "    'global_options':{'model':'WilsonScan'},\n",
    "    'priors':[\n",
    "        {'parameter':'b->smumu::Re{c10}','min':-8,'max':+8,'type':'uniform'},\n",
    "        {'parameter':'b->smumu::Re{cS}','min':-5,'max':+5,'type':'uniform'},\n",
    "    ],\n",
    "    'likelihood':[\n",
    "        'B^0_s->mu^+mu^-::BR@CMS-2019A'      \n",
    "    ]\n",
    "}\n",
    "ATLAS_analysis_args={\n",
    "    'global_options':{'model':'WilsonScan'},\n",
    "    'priors':[\n",
    "        {'parameter':'b->smumu::Re{c10}','min':-8,'max':+8,'type':'uniform'},\n",
    "        {'parameter':'b->smumu::Re{cS}','min':-5,'max':+5,'type':'uniform'},\n",
    "    ],\n",
    "    'likelihood':[\n",
    "        'B^0_s->mu^+mu^-::BR@ATLAS-2018A'      \n",
    "    ] \n",
    "    \n",
    "}\n",
    "analysis_args={\n",
    "    'global_options':{'model':'WilsonScan'},\n",
    "    'priors':[\n",
    "        {'parameter':'b->smumu::Re{c10}','min':-8,'max':+8,'type':'uniform'},\n",
    "        {'parameter':'b->smumu::Re{cS}','min':-5,'max':+5,'type':'uniform'}\n",
    "\n",
    "    ],\n",
    "    \n",
    "    'likelihood':[\n",
    "        'B^0_s->mu^+mu^-::BR@LHCb-2021A','B^0_s->mu^+mu^-::BR@CMS-2019A', 'B^0_s->mu^+mu^-::BR@ATLAS-2018A' \n",
    "    ]\n",
    "}\n",
    "analysis1=eos.Analysis(**LHCb_analysis_args)\n",
    "analysis2=eos.Analysis(**CMS_analysis_args)\n",
    "analysis3=eos.Analysis(**ATLAS_analysis_args)\n",
    "analysis=eos.Analysis(**analysis_args)"
   ]
  },
  {
   "cell_type": "code",
   "execution_count": 32,
   "metadata": {},
   "outputs": [
    {
     "name": "stderr",
     "output_type": "stream",
     "text": [
      "INFO:EOS:Prerun 0 out of 10\n",
      "INFO:EOS:Prerun 0: acceptance rate is   3%\n",
      "INFO:EOS:Prerun 1 out of 10\n",
      "INFO:EOS:Prerun 1: acceptance rate is  11%\n",
      "INFO:EOS:Prerun 2 out of 10\n",
      "INFO:EOS:Prerun 2: acceptance rate is  13%\n",
      "INFO:EOS:Prerun 3 out of 10\n",
      "INFO:EOS:Prerun 3: acceptance rate is  15%\n",
      "INFO:EOS:Prerun 4 out of 10\n",
      "INFO:EOS:Prerun 4: acceptance rate is  16%\n",
      "INFO:EOS:Prerun 5 out of 10\n",
      "INFO:EOS:Prerun 5: acceptance rate is  16%\n",
      "INFO:EOS:Prerun 6 out of 10\n",
      "INFO:EOS:Prerun 6: acceptance rate is  16%\n",
      "INFO:EOS:Prerun 7 out of 10\n",
      "INFO:EOS:Prerun 7: acceptance rate is  16%\n",
      "INFO:EOS:Prerun 8 out of 10\n",
      "INFO:EOS:Prerun 8: acceptance rate is  15%\n",
      "INFO:EOS:Prerun 9 out of 10\n",
      "INFO:EOS:Prerun 9: acceptance rate is  16%\n",
      "INFO:EOS:Main run: started ...\n",
      "INFO:EOS:Main run: acceptance rate is  28%\n",
      "INFO:EOS:Prerun 0 out of 10\n",
      "INFO:EOS:Prerun 0: acceptance rate is   5%\n",
      "INFO:EOS:Prerun 1 out of 10\n",
      "INFO:EOS:Prerun 1: acceptance rate is  17%\n",
      "INFO:EOS:Prerun 2 out of 10\n",
      "INFO:EOS:Prerun 2: acceptance rate is  17%\n",
      "INFO:EOS:Prerun 3 out of 10\n",
      "INFO:EOS:Prerun 3: acceptance rate is  17%\n",
      "INFO:EOS:Prerun 4 out of 10\n",
      "INFO:EOS:Prerun 4: acceptance rate is  17%\n",
      "INFO:EOS:Prerun 5 out of 10\n",
      "INFO:EOS:Prerun 5: acceptance rate is  17%\n",
      "INFO:EOS:Prerun 6 out of 10\n",
      "INFO:EOS:Prerun 6: acceptance rate is  18%\n",
      "INFO:EOS:Prerun 7 out of 10\n",
      "INFO:EOS:Prerun 7: acceptance rate is  18%\n",
      "INFO:EOS:Prerun 8 out of 10\n",
      "INFO:EOS:Prerun 8: acceptance rate is  18%\n",
      "INFO:EOS:Prerun 9 out of 10\n",
      "INFO:EOS:Prerun 9: acceptance rate is  18%\n",
      "INFO:EOS:Main run: started ...\n",
      "INFO:EOS:Main run: acceptance rate is  31%\n",
      "INFO:EOS:Prerun 0 out of 10\n",
      "INFO:EOS:Prerun 0: acceptance rate is   5%\n",
      "INFO:EOS:Prerun 1 out of 10\n",
      "INFO:EOS:Prerun 1: acceptance rate is  20%\n",
      "INFO:EOS:Prerun 2 out of 10\n",
      "INFO:EOS:Prerun 2: acceptance rate is  19%\n",
      "INFO:EOS:Prerun 3 out of 10\n",
      "INFO:EOS:Prerun 3: acceptance rate is  20%\n",
      "INFO:EOS:Prerun 4 out of 10\n",
      "INFO:EOS:Prerun 4: acceptance rate is  20%\n",
      "INFO:EOS:Prerun 5 out of 10\n",
      "INFO:EOS:Prerun 5: acceptance rate is  20%\n",
      "INFO:EOS:Prerun 6 out of 10\n",
      "INFO:EOS:Prerun 6: acceptance rate is  20%\n",
      "INFO:EOS:Prerun 7 out of 10\n",
      "INFO:EOS:Prerun 7: acceptance rate is  20%\n",
      "INFO:EOS:Prerun 8 out of 10\n",
      "INFO:EOS:Prerun 8: acceptance rate is  20%\n",
      "INFO:EOS:Prerun 9 out of 10\n",
      "INFO:EOS:Prerun 9: acceptance rate is  20%\n",
      "INFO:EOS:Main run: started ...\n",
      "INFO:EOS:Main run: acceptance rate is  36%\n",
      "INFO:EOS:Prerun 0 out of 10\n",
      "INFO:EOS:Prerun 0: acceptance rate is   2%\n",
      "INFO:EOS:Prerun 1 out of 10\n",
      "INFO:EOS:Prerun 1: acceptance rate is   9%\n",
      "INFO:EOS:Prerun 2 out of 10\n",
      "INFO:EOS:Prerun 2: acceptance rate is  10%\n",
      "INFO:EOS:Prerun 3 out of 10\n",
      "INFO:EOS:Prerun 3: acceptance rate is  12%\n",
      "INFO:EOS:Prerun 4 out of 10\n",
      "INFO:EOS:Prerun 4: acceptance rate is  14%\n",
      "INFO:EOS:Prerun 5 out of 10\n",
      "INFO:EOS:Prerun 5: acceptance rate is  17%\n",
      "INFO:EOS:Prerun 6 out of 10\n",
      "INFO:EOS:Prerun 6: acceptance rate is  17%\n",
      "INFO:EOS:Prerun 7 out of 10\n",
      "INFO:EOS:Prerun 7: acceptance rate is  17%\n",
      "INFO:EOS:Prerun 8 out of 10\n",
      "INFO:EOS:Prerun 8: acceptance rate is  17%\n",
      "INFO:EOS:Prerun 9 out of 10\n",
      "INFO:EOS:Prerun 9: acceptance rate is  17%\n",
      "INFO:EOS:Main run: started ...\n",
      "INFO:EOS:Main run: acceptance rate is  31%\n"
     ]
    }
   ],
   "source": [
    "samples1,_=analysis1.sample(N=10000,preruns=10,pre_N=40000)\n",
    "samples2,_=analysis2.sample(N=10000,preruns=10,pre_N=40000)\n",
    "samples3,_=analysis3.sample(N=10000,preruns=10,pre_N=40000)\n",
    "samples,_=analysis.sample(N=10000,preruns=10,pre_N=40000)"
   ]
  },
  {
   "cell_type": "code",
   "execution_count": 33,
   "metadata": {},
   "outputs": [
    {
     "name": "stderr",
     "output_type": "stream",
     "text": [
      "INFO:EOS:Optimization goal achieved after 36 function evaluations\n"
     ]
    },
    {
     "data": {
      "text/html": [
       "<table>\n",
       "<tr><th>parameter</th><th>value</th></tr>\n",
       "<tr><td>$\\mathrm{Re}\\, \\mathcal{C}_{10}^{(\\mu)}$</td><td>3.7355</td></tr><tr><td>$\\mathrm{Re}\\, \\mathcal{C}_{S}^{(\\mu)}$</td><td>-0.0263</td></tr></table>"
      ],
      "text/plain": [
       "<eos.analysis.BestFitPoint at 0x7f5aeba89908>"
      ]
     },
     "metadata": {},
     "output_type": "display_data"
    },
    {
     "data": {
      "text/html": [
       "<table>\n",
       "<tr><th>constraint</th><th>&chi;<sup>2</sup></th><th>d.o.f.</th></tr>\n",
       "<tr><td><tt>B^0_s->mu^+mu^-::BR@ATLAS-2018A</tt></td><td>0.0593</td><td>1</td></tr>\n",
       "<tr><td><tt>B^0_s->mu^+mu^-::BR@CMS-2019A</tt></td><td>0.0170</td><td>1</td></tr>\n",
       "<tr><td><tt>B^0_s->mu^+mu^-::BR@LHCb-2021A</tt></td><td>0.0460</td><td>1</td></tr>\n",
       "</table><br/>\n",
       "<table>\n",
       "<tr><th>total &chi;<sup>2</sup></th><td>0.1223</td></tr>\n",
       "<tr><th>total degrees of freedom</th><td>1</td></tr>\n",
       "<tr><th>p-value</th><td>72.6602%</td></tr>\n",
       "</table>\n"
      ],
      "text/plain": [
       "<_eos.GoodnessOfFit at 0x7f5b7a3b8e68>"
      ]
     },
     "metadata": {},
     "output_type": "display_data"
    }
   ],
   "source": [
    "bfp = analysis.optimize()\n",
    "display(bfp)\n",
    "display(analysis.goodness_of_fit())"
   ]
  },
  {
   "cell_type": "markdown",
   "metadata": {},
   "source": [
    "We use the `histogram2D` plot type. The constraint of $C_S$ and $C_{10}$ will appear as a ring in the histogram. The plot below tells us the shape of the data but not so much the region of probability. The histogram should be of uniform distribution."
   ]
  },
  {
   "cell_type": "code",
   "execution_count": 34,
   "metadata": {},
   "outputs": [
    {
     "data": {
      "image/png": "[encoded data removed]",
      "text/plain": [
       "<Figure size 432x288 with 1 Axes>"
      ]
     },
     "metadata": {},
     "output_type": "display_data"
    }
   ],
   "source": [
    "plot_args = {\n",
    "    'plot': {\n",
    "        'x': { 'label': r'$\\rm{Re}(C_{S})$' ,'range': [-15.0, +15.0] },\n",
    "        'y': { 'label': r'$\\rm{Re}(C_{10})$', 'range': [-7.0, +7.0]},\n",
    "        'legend':{'location': 'lower left'}\n",
    "        \n",
    "    },\n",
    "    'contents': [\n",
    "        \n",
    "              {\n",
    "            'type': 'histogram2D', \n",
    "            'data': { 'samples': samples1[:, (1,0)], }\n",
    "        },\n",
    "             {\n",
    "            'type': 'histogram2D', \n",
    "            'data': { 'samples': samples2[:, (1,0)], }\n",
    "        },\n",
    "            {\n",
    "            'type': 'histogram2D', \n",
    "            'data': { 'samples': samples3[:, (1,0)], }\n",
    "        },\n",
    "          {\n",
    "            'type': 'histogram2D', \n",
    "            'data': { 'samples': samples[:, (1,0)], }\n",
    "        },\n",
    "\n",
    "        \n",
    "    ] \n",
    "            \n",
    "}\n",
    "eos.plot.Plotter(plot_args).plot()"
   ]
  },
  {
   "cell_type": "code",
   "execution_count": 35,
   "metadata": {},
   "outputs": [
    {
     "data": {
      "image/png": "[encoded data removed]",
      "text/plain": [
       "<Figure size 432x288 with 1 Axes>"
      ]
     },
     "metadata": {},
     "output_type": "display_data"
    }
   ],
   "source": [
    "plot_args = {\n",
    "    'plot': {\n",
    "        'x': { 'label': r'$\\rm{Re}(C_{S})$' ,'range': [-0.2, +0.2] },\n",
    "        'y': { 'label': r'$\\rm{Re}(C_{10})$', 'range': [-8, +8]},\n",
    "        'legend':{'location': 'lower left'}\n",
    "    },\n",
    "    'contents': [\n",
    "        \n",
    "        {\n",
    "            'type': 'kde2D', 'color': 'C0', 'label': r'$\\mathcal{B}(B^0_s \\to \\mu^+\\mu^-)$',\n",
    "            'data': { 'samples': samples[:, (1,0)], },'bandwidth': 1,\n",
    "            'levels': [0,68.2689,95.45], \n",
    "            'contours': ['areas','lines']\n",
    "\n",
    "        },\n",
    "        {\n",
    "            'label': 'theory prediction', \n",
    "            'type': 'point', 'color': 'black', 'opacity': 5, 'markersize': 12,\n",
    "            'x': 0.0,\n",
    "            'y': -4.16611761,\n",
    "            'marker': 'x'\n",
    "        }\n",
    "\n",
    "        \n",
    "    ] \n",
    "            \n",
    "}\n",
    "eos.plot.Plotter(plot_args,'NormalC10CS.png').plot()"
   ]
  },
  {
   "cell_type": "markdown",
   "metadata": {},
   "source": [
    "The fit above uses the plotter class `kde2D`. This create a 'smooth' histogram. It uses a Gaussian curve and displays a band width parameter. "
   ]
  },
  {
   "cell_type": "markdown",
   "metadata": {},
   "source": [
    "### 2. $C_S$, $C_{10}$ and the branching ratio (constrained)"
   ]
  },
  {
   "cell_type": "code",
   "execution_count": 36,
   "metadata": {},
   "outputs": [
    {
     "name": "stderr",
     "output_type": "stream",
     "text": [
      "INFO:EOS:Creating analysis with 2 priors, 1 EOS-wide constraints, 1 global options, 0 manually-entered constraints and 0 fixed parameters.\n",
      "INFO:EOS:likelihood probably depends on 120 parameter(s) that do not appear in the prior; check prior?\n",
      "INFO:EOS:Creating analysis with 2 priors, 1 EOS-wide constraints, 1 global options, 0 manually-entered constraints and 0 fixed parameters.\n",
      "INFO:EOS:likelihood probably depends on 120 parameter(s) that do not appear in the prior; check prior?\n",
      "INFO:EOS:Creating analysis with 2 priors, 1 EOS-wide constraints, 1 global options, 0 manually-entered constraints and 0 fixed parameters.\n",
      "INFO:EOS:likelihood probably depends on 120 parameter(s) that do not appear in the prior; check prior?\n",
      "INFO:EOS:Creating analysis with 2 priors, 3 EOS-wide constraints, 1 global options, 0 manually-entered constraints and 0 fixed parameters.\n",
      "INFO:EOS:likelihood probably depends on 120 parameter(s) that do not appear in the prior; check prior?\n"
     ]
    }
   ],
   "source": [
    "LHCb_analysis_args={\n",
    "    'global_options':{'model':'ConstrainedWilsonScan'},\n",
    "    'priors':[\n",
    "        {'parameter':'b->smumu::Re{c10}','min':-8,'max':+8,'type':'uniform'},\n",
    "        {'parameter': 'b->smumu::Re{cS}','min':-5, 'max':+5, 'type': 'uniform'},\n",
    "    ],\n",
    "    'likelihood':[\n",
    "        'B^0_s->mu^+mu^-::BR@LHCb-2021A'      \n",
    "    ]\n",
    "}\n",
    "CMS_analysis_args={\n",
    "    'global_options':{'model':'ConstrainedWilsonScan'},\n",
    "    'priors':[\n",
    "        {'parameter':'b->smumu::Re{c10}','min':-8,'max':+8,'type':'uniform'},\n",
    "        {'parameter':'b->smumu::Re{cS}','min':-5,'max':+5,'type':'uniform'},\n",
    "    ],\n",
    "    'likelihood':[\n",
    "        'B^0_s->mu^+mu^-::BR@CMS-2019A'      \n",
    "    ]\n",
    "}\n",
    "ATLAS_analysis_args={\n",
    "    'global_options':{'model':'ConstrainedWilsonScan'},\n",
    "    'priors':[\n",
    "        {'parameter':'b->smumu::Re{c10}','min':-8,'max':+8,'type':'uniform'},\n",
    "        {'parameter':'b->smumu::Re{cS}','min':-5,'max':+5,'type':'uniform'},\n",
    "    ],\n",
    "    'likelihood':[\n",
    "        'B^0_s->mu^+mu^-::BR@ATLAS-2018A'      \n",
    "    ] \n",
    "    \n",
    "}\n",
    "analysis_args={\n",
    "    'global_options':{'model':'ConstrainedWilsonScan'},\n",
    "    'priors':[\n",
    "        {'parameter':'b->smumu::Re{c10}','min':-8,'max':+8,'type':'uniform'},\n",
    "        {'parameter':'b->smumu::Re{cS}','min':-5,'max':+5,'type':'uniform'}\n",
    "\n",
    "    ],\n",
    "    \n",
    "    'likelihood':[\n",
    "        'B^0_s->mu^+mu^-::BR@LHCb-2021A','B^0_s->mu^+mu^-::BR@CMS-2019A', 'B^0_s->mu^+mu^-::BR@ATLAS-2018A' \n",
    "    ]\n",
    "}\n",
    "analysis1=eos.Analysis(**LHCb_analysis_args)\n",
    "analysis2=eos.Analysis(**CMS_analysis_args)\n",
    "analysis3=eos.Analysis(**ATLAS_analysis_args)\n",
    "analysis=eos.Analysis(**analysis_args)"
   ]
  },
  {
   "cell_type": "code",
   "execution_count": 37,
   "metadata": {},
   "outputs": [
    {
     "name": "stderr",
     "output_type": "stream",
     "text": [
      "INFO:EOS:Prerun 0 out of 10\n",
      "INFO:EOS:Prerun 0: acceptance rate is   2%\n",
      "INFO:EOS:Prerun 1 out of 10\n",
      "INFO:EOS:Prerun 1: acceptance rate is  12%\n",
      "INFO:EOS:Prerun 2 out of 10\n",
      "INFO:EOS:Prerun 2: acceptance rate is  14%\n",
      "INFO:EOS:Prerun 3 out of 10\n",
      "INFO:EOS:Prerun 3: acceptance rate is  16%\n",
      "INFO:EOS:Prerun 4 out of 10\n",
      "INFO:EOS:Prerun 4: acceptance rate is  16%\n",
      "INFO:EOS:Prerun 5 out of 10\n",
      "INFO:EOS:Prerun 5: acceptance rate is  15%\n",
      "INFO:EOS:Prerun 6 out of 10\n",
      "INFO:EOS:Prerun 6: acceptance rate is  16%\n",
      "INFO:EOS:Prerun 7 out of 10\n",
      "INFO:EOS:Prerun 7: acceptance rate is  15%\n",
      "INFO:EOS:Prerun 8 out of 10\n",
      "INFO:EOS:Prerun 8: acceptance rate is  16%\n",
      "INFO:EOS:Prerun 9 out of 10\n",
      "INFO:EOS:Prerun 9: acceptance rate is  16%\n",
      "INFO:EOS:Main run: started ...\n",
      "INFO:EOS:Main run: acceptance rate is  28%\n",
      "INFO:EOS:Prerun 0 out of 10\n",
      "INFO:EOS:Prerun 0: acceptance rate is   3%\n",
      "INFO:EOS:Prerun 1 out of 10\n",
      "INFO:EOS:Prerun 1: acceptance rate is  18%\n",
      "INFO:EOS:Prerun 2 out of 10\n",
      "INFO:EOS:Prerun 2: acceptance rate is  17%\n",
      "INFO:EOS:Prerun 3 out of 10\n",
      "INFO:EOS:Prerun 3: acceptance rate is  18%\n",
      "INFO:EOS:Prerun 4 out of 10\n",
      "INFO:EOS:Prerun 4: acceptance rate is  18%\n",
      "INFO:EOS:Prerun 5 out of 10\n",
      "INFO:EOS:Prerun 5: acceptance rate is  17%\n",
      "INFO:EOS:Prerun 6 out of 10\n",
      "INFO:EOS:Prerun 6: acceptance rate is  17%\n",
      "INFO:EOS:Prerun 7 out of 10\n",
      "INFO:EOS:Prerun 7: acceptance rate is  17%\n",
      "INFO:EOS:Prerun 8 out of 10\n",
      "INFO:EOS:Prerun 8: acceptance rate is  18%\n",
      "INFO:EOS:Prerun 9 out of 10\n",
      "INFO:EOS:Prerun 9: acceptance rate is  17%\n",
      "INFO:EOS:Main run: started ...\n",
      "INFO:EOS:Main run: acceptance rate is  31%\n",
      "INFO:EOS:Prerun 0 out of 10\n",
      "INFO:EOS:Prerun 0: acceptance rate is   4%\n",
      "INFO:EOS:Prerun 1 out of 10\n",
      "INFO:EOS:Prerun 1: acceptance rate is  20%\n",
      "INFO:EOS:Prerun 2 out of 10\n",
      "INFO:EOS:Prerun 2: acceptance rate is  20%\n",
      "INFO:EOS:Prerun 3 out of 10\n",
      "INFO:EOS:Prerun 3: acceptance rate is  20%\n",
      "INFO:EOS:Prerun 4 out of 10\n",
      "INFO:EOS:Prerun 4: acceptance rate is  20%\n",
      "INFO:EOS:Prerun 5 out of 10\n",
      "INFO:EOS:Prerun 5: acceptance rate is  20%\n",
      "INFO:EOS:Prerun 6 out of 10\n",
      "INFO:EOS:Prerun 6: acceptance rate is  20%\n",
      "INFO:EOS:Prerun 7 out of 10\n",
      "INFO:EOS:Prerun 7: acceptance rate is  20%\n",
      "INFO:EOS:Prerun 8 out of 10\n",
      "INFO:EOS:Prerun 8: acceptance rate is  20%\n",
      "INFO:EOS:Prerun 9 out of 10\n",
      "INFO:EOS:Prerun 9: acceptance rate is  20%\n",
      "INFO:EOS:Main run: started ...\n",
      "INFO:EOS:Main run: acceptance rate is  36%\n",
      "INFO:EOS:Prerun 0 out of 10\n",
      "INFO:EOS:Prerun 0: acceptance rate is   2%\n",
      "INFO:EOS:Prerun 1 out of 10\n",
      "INFO:EOS:Prerun 1: acceptance rate is  10%\n",
      "INFO:EOS:Prerun 2 out of 10\n",
      "INFO:EOS:Prerun 2: acceptance rate is  10%\n",
      "INFO:EOS:Prerun 3 out of 10\n",
      "INFO:EOS:Prerun 3: acceptance rate is  12%\n",
      "INFO:EOS:Prerun 4 out of 10\n",
      "INFO:EOS:Prerun 4: acceptance rate is  15%\n",
      "INFO:EOS:Prerun 5 out of 10\n",
      "INFO:EOS:Prerun 5: acceptance rate is  17%\n",
      "INFO:EOS:Prerun 6 out of 10\n",
      "INFO:EOS:Prerun 6: acceptance rate is  17%\n",
      "INFO:EOS:Prerun 7 out of 10\n",
      "INFO:EOS:Prerun 7: acceptance rate is  17%\n",
      "INFO:EOS:Prerun 8 out of 10\n",
      "INFO:EOS:Prerun 8: acceptance rate is  17%\n",
      "INFO:EOS:Prerun 9 out of 10\n",
      "INFO:EOS:Prerun 9: acceptance rate is  17%\n",
      "INFO:EOS:Main run: started ...\n",
      "INFO:EOS:Main run: acceptance rate is  30%\n"
     ]
    }
   ],
   "source": [
    "samples1,_=analysis1.sample(N=10000,preruns=10,pre_N=40000)\n",
    "samples2,_=analysis2.sample(N=10000,preruns=10,pre_N=40000)\n",
    "samples3,_=analysis3.sample(N=10000,preruns=10,pre_N=40000)\n",
    "samples,_=analysis.sample(N=10000,preruns=10,pre_N=40000)"
   ]
  },
  {
   "cell_type": "code",
   "execution_count": 38,
   "metadata": {},
   "outputs": [
    {
     "data": {
      "image/png": "[encoded data removed]",
      "text/plain": [
       "<Figure size 432x288 with 1 Axes>"
      ]
     },
     "metadata": {},
     "output_type": "display_data"
    }
   ],
   "source": [
    "plot_args = {\n",
    "    'plot': {\n",
    "        'x': { 'label': r'$C_{S}=-C_{P}$' ,'range': [-0.2, +0.2] },\n",
    "        'y': { 'label': r'$\\rm{Re}(C_{10})$', 'range': [-10.0, +10.0]},\n",
    "        'legend':{'location': 'upper left'}\n",
    "    },\n",
    "    'contents': [\n",
    "        \n",
    "        {\n",
    "            'type': 'kde2D', 'color': 'C0', 'label': r'$\\mathcal{B}(B^0_s \\to \\mu^+\\mu^-)$',\n",
    "            'data': { 'samples': samples[:, (1,0)], },\n",
    "            'levels': [0,68.2689,95.45],\n",
    "            'contours': ['areas','lines']\n",
    "\n",
    "        },\n",
    "        {\n",
    "            'label': 'theory prediction', \n",
    "            'type': 'point', 'color': 'black', 'opacity': 5, 'markersize': 12,\n",
    "            'x': 0.0,\n",
    "            'y': -4.16611761,\n",
    "            'marker': 'x'\n",
    "        }\n",
    "\n",
    "        \n",
    "    ] \n",
    "            \n",
    "}\n",
    "eos.plot.Plotter(plot_args,'ConstrainedC10CS.png').plot()"
   ]
  },
  {
   "cell_type": "markdown",
   "metadata": {},
   "source": [
    "The constrained fit makes a distorted ring. The pseudo scalars are essentially 'switched on' to interfere with $C_{10}$."
   ]
  },
  {
   "cell_type": "markdown",
   "metadata": {},
   "source": [
    "### 3. $C_S$, $C_P$ and the branching ratio (unconstrained)"
   ]
  },
  {
   "cell_type": "code",
   "execution_count": 39,
   "metadata": {},
   "outputs": [
    {
     "name": "stderr",
     "output_type": "stream",
     "text": [
      "INFO:EOS:Creating analysis with 2 priors, 1 EOS-wide constraints, 1 global options, 0 manually-entered constraints and 0 fixed parameters.\n",
      "INFO:EOS:likelihood probably depends on 136 parameter(s) that do not appear in the prior; check prior?\n",
      "INFO:EOS:Creating analysis with 2 priors, 1 EOS-wide constraints, 1 global options, 0 manually-entered constraints and 0 fixed parameters.\n",
      "INFO:EOS:likelihood probably depends on 136 parameter(s) that do not appear in the prior; check prior?\n",
      "INFO:EOS:Creating analysis with 2 priors, 1 EOS-wide constraints, 1 global options, 0 manually-entered constraints and 0 fixed parameters.\n",
      "INFO:EOS:likelihood probably depends on 136 parameter(s) that do not appear in the prior; check prior?\n",
      "INFO:EOS:Creating analysis with 2 priors, 3 EOS-wide constraints, 1 global options, 0 manually-entered constraints and 0 fixed parameters.\n",
      "INFO:EOS:likelihood probably depends on 136 parameter(s) that do not appear in the prior; check prior?\n"
     ]
    }
   ],
   "source": [
    "LHCb_analysis_args={\n",
    "    'global_options':{'model':'WilsonScan'},\n",
    "    'priors':[\n",
    "        {'parameter':'b->smumu::Re{cS}','min':-5,'max':+5,'type':'uniform'},\n",
    "        {'parameter': 'b->smumu::Re{cP}','min':-5, 'max':+5, 'type': 'uniform'},\n",
    "    ],\n",
    "    'likelihood':[\n",
    "        'B^0_s->mu^+mu^-::BR@LHCb-2021A'      \n",
    "    ]\n",
    "}\n",
    "CMS_analysis_args={\n",
    "    'global_options':{'model':'WilsonScan'},\n",
    "    'priors':[\n",
    "        {'parameter':'b->smumu::Re{cS}','min':-5,'max':+5,'type':'uniform'},\n",
    "        {'parameter':'b->smumu::Re{cP}','min':-5,'max':+5,'type':'uniform'},\n",
    "    ],\n",
    "    'likelihood':[\n",
    "        'B^0_s->mu^+mu^-::BR@CMS-2019A'      \n",
    "    ]\n",
    "}\n",
    "ATLAS_analysis_args={\n",
    "    'global_options':{'model':'WilsonScan'},\n",
    "    'priors':[\n",
    "        {'parameter':'b->smumu::Re{cS}','min':-5,'max':+5,'type':'uniform'},\n",
    "        {'parameter':'b->smumu::Re{cP}','min':-5,'max':+5,'type':'uniform'},\n",
    "    ],\n",
    "    'likelihood':[\n",
    "        'B^0_s->mu^+mu^-::BR@ATLAS-2018A'      \n",
    "    ] \n",
    "}\n",
    "analysis_args={\n",
    "    'global_options':{'model':'WilsonScan'},\n",
    "    'priors':[\n",
    "        {'parameter':'b->smumu::Re{cS}','min':-5,'max':+5,'type':'uniform'},\n",
    "        {'parameter':'b->smumu::Re{cP}','min':-5,'max':+5,'type':'uniform'}\n",
    "\n",
    "    ],\n",
    "    \n",
    "    'likelihood':[\n",
    "        'B^0_s->mu^+mu^-::BR@LHCb-2021A','B^0_s->mu^+mu^-::BR@CMS-2019A','B^0_s->mu^+mu^-::BR@ATLAS-2018A'     \n",
    "    ]\n",
    "}\n",
    "analysis1=eos.Analysis(**LHCb_analysis_args)\n",
    "analysis2=eos.Analysis(**CMS_analysis_args)\n",
    "analysis3=eos.Analysis(**ATLAS_analysis_args)\n",
    "analysis=eos.Analysis(**analysis_args)"
   ]
  },
  {
   "cell_type": "code",
   "execution_count": 40,
   "metadata": {},
   "outputs": [
    {
     "name": "stderr",
     "output_type": "stream",
     "text": [
      "INFO:EOS:Prerun 0 out of 10\n",
      "INFO:EOS:Prerun 0: acceptance rate is   0%\n",
      "INFO:EOS:Prerun 1 out of 10\n",
      "INFO:EOS:Prerun 1: acceptance rate is  10%\n",
      "INFO:EOS:Prerun 2 out of 10\n",
      "INFO:EOS:Prerun 2: acceptance rate is  13%\n",
      "INFO:EOS:Prerun 3 out of 10\n",
      "INFO:EOS:Prerun 3: acceptance rate is  16%\n",
      "INFO:EOS:Prerun 4 out of 10\n",
      "INFO:EOS:Prerun 4: acceptance rate is  15%\n",
      "INFO:EOS:Prerun 5 out of 10\n",
      "INFO:EOS:Prerun 5: acceptance rate is  16%\n",
      "INFO:EOS:Prerun 6 out of 10\n",
      "INFO:EOS:Prerun 6: acceptance rate is  16%\n",
      "INFO:EOS:Prerun 7 out of 10\n",
      "INFO:EOS:Prerun 7: acceptance rate is  16%\n",
      "INFO:EOS:Prerun 8 out of 10\n",
      "INFO:EOS:Prerun 8: acceptance rate is  16%\n",
      "INFO:EOS:Prerun 9 out of 10\n",
      "INFO:EOS:Prerun 9: acceptance rate is  15%\n",
      "INFO:EOS:Main run: started ...\n",
      "INFO:EOS:Main run: acceptance rate is  28%\n",
      "INFO:EOS:Prerun 0 out of 10\n",
      "INFO:EOS:Prerun 0: acceptance rate is   1%\n",
      "INFO:EOS:Prerun 1 out of 10\n",
      "INFO:EOS:Prerun 1: acceptance rate is  17%\n",
      "INFO:EOS:Prerun 2 out of 10\n",
      "INFO:EOS:Prerun 2: acceptance rate is  17%\n",
      "INFO:EOS:Prerun 3 out of 10\n",
      "INFO:EOS:Prerun 3: acceptance rate is  17%\n",
      "INFO:EOS:Prerun 4 out of 10\n",
      "INFO:EOS:Prerun 4: acceptance rate is  17%\n",
      "INFO:EOS:Prerun 5 out of 10\n",
      "INFO:EOS:Prerun 5: acceptance rate is  18%\n",
      "INFO:EOS:Prerun 6 out of 10\n",
      "INFO:EOS:Prerun 6: acceptance rate is  17%\n",
      "INFO:EOS:Prerun 7 out of 10\n",
      "INFO:EOS:Prerun 7: acceptance rate is  17%\n",
      "INFO:EOS:Prerun 8 out of 10\n",
      "INFO:EOS:Prerun 8: acceptance rate is  18%\n",
      "INFO:EOS:Prerun 9 out of 10\n",
      "INFO:EOS:Prerun 9: acceptance rate is  17%\n",
      "INFO:EOS:Main run: started ...\n",
      "INFO:EOS:Main run: acceptance rate is  31%\n",
      "INFO:EOS:Prerun 0 out of 10\n",
      "INFO:EOS:Prerun 0: acceptance rate is   1%\n",
      "INFO:EOS:Prerun 1 out of 10\n",
      "INFO:EOS:Prerun 1: acceptance rate is  20%\n",
      "INFO:EOS:Prerun 2 out of 10\n",
      "INFO:EOS:Prerun 2: acceptance rate is  19%\n",
      "INFO:EOS:Prerun 3 out of 10\n",
      "INFO:EOS:Prerun 3: acceptance rate is  20%\n",
      "INFO:EOS:Prerun 4 out of 10\n",
      "INFO:EOS:Prerun 4: acceptance rate is  20%\n",
      "INFO:EOS:Prerun 5 out of 10\n",
      "INFO:EOS:Prerun 5: acceptance rate is  20%\n",
      "INFO:EOS:Prerun 6 out of 10\n",
      "INFO:EOS:Prerun 6: acceptance rate is  20%\n",
      "INFO:EOS:Prerun 7 out of 10\n",
      "INFO:EOS:Prerun 7: acceptance rate is  20%\n",
      "INFO:EOS:Prerun 8 out of 10\n",
      "INFO:EOS:Prerun 8: acceptance rate is  20%\n",
      "INFO:EOS:Prerun 9 out of 10\n",
      "INFO:EOS:Prerun 9: acceptance rate is  20%\n",
      "INFO:EOS:Main run: started ...\n",
      "INFO:EOS:Main run: acceptance rate is  36%\n",
      "INFO:EOS:Prerun 0 out of 10\n",
      "INFO:EOS:Prerun 0: acceptance rate is   0%\n",
      "INFO:EOS:Prerun 1 out of 10\n",
      "INFO:EOS:Prerun 1: acceptance rate is   8%\n",
      "INFO:EOS:Prerun 2 out of 10\n",
      "INFO:EOS:Prerun 2: acceptance rate is  10%\n",
      "INFO:EOS:Prerun 3 out of 10\n",
      "INFO:EOS:Prerun 3: acceptance rate is  12%\n",
      "INFO:EOS:Prerun 4 out of 10\n",
      "INFO:EOS:Prerun 4: acceptance rate is  14%\n",
      "INFO:EOS:Prerun 5 out of 10\n",
      "INFO:EOS:Prerun 5: acceptance rate is  17%\n",
      "INFO:EOS:Prerun 6 out of 10\n",
      "INFO:EOS:Prerun 6: acceptance rate is  18%\n",
      "INFO:EOS:Prerun 7 out of 10\n",
      "INFO:EOS:Prerun 7: acceptance rate is  17%\n",
      "INFO:EOS:Prerun 8 out of 10\n",
      "INFO:EOS:Prerun 8: acceptance rate is  17%\n",
      "INFO:EOS:Prerun 9 out of 10\n",
      "INFO:EOS:Prerun 9: acceptance rate is  17%\n",
      "INFO:EOS:Main run: started ...\n",
      "INFO:EOS:Main run: acceptance rate is  30%\n"
     ]
    }
   ],
   "source": [
    "samples1,_=analysis1.sample(N=10000,preruns=10,pre_N=40000)\n",
    "samples2,_=analysis2.sample(N=10000,preruns=10,pre_N=40000)\n",
    "samples3,_=analysis3.sample(N=10000,preruns=10,pre_N=40000)\n",
    "samples,_=analysis.sample(N=10000,preruns=10,pre_N=40000)"
   ]
  },
  {
   "cell_type": "code",
   "execution_count": 41,
   "metadata": {},
   "outputs": [
    {
     "name": "stderr",
     "output_type": "stream",
     "text": [
      "INFO:EOS:Optimization goal achieved after 36 function evaluations\n"
     ]
    },
    {
     "data": {
      "text/html": [
       "<table>\n",
       "<tr><th>parameter</th><th>value</th></tr>\n",
       "<tr><td>$\\mathrm{Re}\\, \\mathcal{C}_{S}^{(\\mu)}$</td><td>0.0885</td></tr><tr><td>$\\mathrm{Re}\\, \\mathcal{C}_{P}^{(\\mu)}$</td><td>0.0445</td></tr></table>"
      ],
      "text/plain": [
       "<eos.analysis.BestFitPoint at 0x7f5b79f59da0>"
      ]
     },
     "metadata": {},
     "output_type": "display_data"
    },
    {
     "data": {
      "text/html": [
       "<table>\n",
       "<tr><th>constraint</th><th>&chi;<sup>2</sup></th><th>d.o.f.</th></tr>\n",
       "<tr><td><tt>B^0_s->mu^+mu^-::BR@ATLAS-2018A</tt></td><td>0.0593</td><td>1</td></tr>\n",
       "<tr><td><tt>B^0_s->mu^+mu^-::BR@CMS-2019A</tt></td><td>0.0170</td><td>1</td></tr>\n",
       "<tr><td><tt>B^0_s->mu^+mu^-::BR@LHCb-2021A</tt></td><td>0.0460</td><td>1</td></tr>\n",
       "</table><br/>\n",
       "<table>\n",
       "<tr><th>total &chi;<sup>2</sup></th><td>0.1223</td></tr>\n",
       "<tr><th>total degrees of freedom</th><td>1</td></tr>\n",
       "<tr><th>p-value</th><td>72.6602%</td></tr>\n",
       "</table>\n"
      ],
      "text/plain": [
       "<_eos.GoodnessOfFit at 0x7f5b79f59308>"
      ]
     },
     "metadata": {},
     "output_type": "display_data"
    }
   ],
   "source": [
    "bfp = analysis.optimize()\n",
    "display(bfp)\n",
    "display(analysis.goodness_of_fit())"
   ]
  },
  {
   "cell_type": "code",
   "execution_count": 42,
   "metadata": {},
   "outputs": [
    {
     "data": {
      "image/png": "[encoded data removed]",
      "text/plain": [
       "<Figure size 432x288 with 1 Axes>"
      ]
     },
     "metadata": {},
     "output_type": "display_data"
    }
   ],
   "source": [
    "plot_args = {\n",
    "    'plot': {\n",
    "        'x': { 'label': r'$\\rm{Re}(C_{S})$' ,'range': [-0.10, +0.35] },\n",
    "        'y': { 'label': r'$\\rm{Re}(C_{P})$', 'range': [-0.25, +0.25]},\n",
    "        'legend':{'location': 'lower left'}\n",
    "    },\n",
    "    'contents': [\n",
    "        \n",
    "        {\n",
    "            'type': 'kde2D', 'color': 'C3', 'label':r'$\\mathcal{B}(B^0_s \\to \\mu^+\\mu^-)$',\n",
    "            'data': { 'samples': samples[:, (1,0)], },\n",
    "            'levels': [0,68.2689,95.45],\n",
    "            'contours': ['areas','lines'],\n",
    "\n",
    "\n",
    "        },\n",
    "        {\n",
    "            'label': 'theory', \n",
    "            'type': 'point', 'color': 'black', 'opacity': 5, 'markersize': 12,\n",
    "            'x': 0.0,\n",
    "            'y': 0.0,\n",
    "            'marker': 'x'\n",
    "        }\n",
    "\n",
    "        \n",
    "    ] \n",
    "            \n",
    "}\n",
    "eos.plot.Plotter(plot_args, 'CSCPrelation.png').plot()"
   ]
  },
  {
   "cell_type": "markdown",
   "metadata": {},
   "source": [
    "### 4.  $C_S$, $C_P$ and the branching ratio (constrained): $C_S$ = $-C_P$ and $C'_S$ = $C'_P$"
   ]
  },
  {
   "cell_type": "code",
   "execution_count": 43,
   "metadata": {},
   "outputs": [
    {
     "name": "stderr",
     "output_type": "stream",
     "text": [
      "INFO:EOS:Creating analysis with 2 priors, 1 EOS-wide constraints, 1 global options, 0 manually-entered constraints and 0 fixed parameters.\n",
      "INFO:EOS:likelihood probably depends on 120 parameter(s) that do not appear in the prior; check prior?\n",
      "INFO:EOS:Creating analysis with 2 priors, 1 EOS-wide constraints, 1 global options, 0 manually-entered constraints and 0 fixed parameters.\n",
      "INFO:EOS:likelihood probably depends on 120 parameter(s) that do not appear in the prior; check prior?\n",
      "INFO:EOS:Creating analysis with 2 priors, 1 EOS-wide constraints, 1 global options, 0 manually-entered constraints and 0 fixed parameters.\n",
      "INFO:EOS:likelihood probably depends on 120 parameter(s) that do not appear in the prior; check prior?\n",
      "INFO:EOS:Creating analysis with 2 priors, 3 EOS-wide constraints, 1 global options, 0 manually-entered constraints and 0 fixed parameters.\n",
      "INFO:EOS:likelihood probably depends on 120 parameter(s) that do not appear in the prior; check prior?\n"
     ]
    }
   ],
   "source": [
    "LHCb_analysis_args={\n",
    "    'global_options':{'model':'ConstrainedWilsonScan'},\n",
    "    'priors':[\n",
    "        {'parameter':'b->smumu::Re{cS}','min':-5,'max':+5,'type':'uniform'},\n",
    "        {'parameter': \"b->smumu::Re{cS'}\",'min':-5, 'max':+5, 'type': 'uniform'},\n",
    "    ],\n",
    "    'likelihood':[\n",
    "        'B^0_s->mu^+mu^-::BR@LHCb-2021A'      \n",
    "    ]\n",
    "}\n",
    "CMS_analysis_args={\n",
    "    'global_options':{'model':'ConstrainedWilsonScan'},\n",
    "    'priors':[\n",
    "        {'parameter':'b->smumu::Re{cS}','min':-5,'max':+5,'type':'uniform'},\n",
    "        {'parameter':\"b->smumu::Re{cS'}\",'min':-5,'max':+5,'type':'uniform'},\n",
    "    ],\n",
    "    'likelihood':[\n",
    "        'B^0_s->mu^+mu^-::BR@CMS-2019A'      \n",
    "    ]\n",
    "}\n",
    "ATLAS_analysis_args={\n",
    "    'global_options':{'model':'ConstrainedWilsonScan'},\n",
    "    'priors':[\n",
    "        {'parameter':'b->smumu::Re{cS}','min':-5,'max':+5,'type':'uniform'},\n",
    "        {'parameter':\"b->smumu::Re{cS'}\",'min':-5,'max':+5,'type':'uniform'},\n",
    "    ],\n",
    "    'likelihood':[\n",
    "        'B^0_s->mu^+mu^-::BR@ATLAS-2018A'      \n",
    "    ] \n",
    "}\n",
    "analysis_args={\n",
    "    'global_options':{'model':'ConstrainedWilsonScan'},\n",
    "    'priors':[\n",
    "        {'parameter':'b->smumu::Re{cS}','min':-5,'max':+5,'type':'uniform'},\n",
    "        {'parameter':\"b->smumu::Re{cS'}\",'min':-5,'max':+5,'type':'uniform'}\n",
    "\n",
    "    ],\n",
    "    \n",
    "    'likelihood':[\n",
    "        'B^0_s->mu^+mu^-::BR@LHCb-2021A','B^0_s->mu^+mu^-::BR@CMS-2019A','B^0_s->mu^+mu^-::BR@ATLAS-2018A'     \n",
    "    ]\n",
    "}\n",
    "analysis1=eos.Analysis(**LHCb_analysis_args)\n",
    "analysis2=eos.Analysis(**CMS_analysis_args)\n",
    "analysis3=eos.Analysis(**ATLAS_analysis_args)\n",
    "analysis=eos.Analysis(**analysis_args)"
   ]
  },
  {
   "cell_type": "code",
   "execution_count": 44,
   "metadata": {},
   "outputs": [
    {
     "name": "stderr",
     "output_type": "stream",
     "text": [
      "INFO:EOS:Prerun 0 out of 10\n",
      "INFO:EOS:Prerun 0: acceptance rate is   0%\n",
      "INFO:EOS:Prerun 1 out of 10\n",
      "INFO:EOS:Prerun 1: acceptance rate is  11%\n",
      "INFO:EOS:Prerun 2 out of 10\n",
      "INFO:EOS:Prerun 2: acceptance rate is  13%\n",
      "INFO:EOS:Prerun 3 out of 10\n",
      "INFO:EOS:Prerun 3: acceptance rate is  16%\n",
      "INFO:EOS:Prerun 4 out of 10\n",
      "INFO:EOS:Prerun 4: acceptance rate is  16%\n",
      "INFO:EOS:Prerun 5 out of 10\n",
      "INFO:EOS:Prerun 5: acceptance rate is  15%\n",
      "INFO:EOS:Prerun 6 out of 10\n",
      "INFO:EOS:Prerun 6: acceptance rate is  16%\n",
      "INFO:EOS:Prerun 7 out of 10\n",
      "INFO:EOS:Prerun 7: acceptance rate is  16%\n",
      "INFO:EOS:Prerun 8 out of 10\n",
      "INFO:EOS:Prerun 8: acceptance rate is  16%\n",
      "INFO:EOS:Prerun 9 out of 10\n",
      "INFO:EOS:Prerun 9: acceptance rate is  16%\n",
      "INFO:EOS:Main run: started ...\n",
      "INFO:EOS:Main run: acceptance rate is  28%\n",
      "INFO:EOS:Prerun 0 out of 10\n",
      "INFO:EOS:Prerun 0: acceptance rate is   0%\n",
      "INFO:EOS:Prerun 1 out of 10\n",
      "INFO:EOS:Prerun 1: acceptance rate is  17%\n",
      "INFO:EOS:Prerun 2 out of 10\n",
      "INFO:EOS:Prerun 2: acceptance rate is  17%\n",
      "INFO:EOS:Prerun 3 out of 10\n",
      "INFO:EOS:Prerun 3: acceptance rate is  17%\n",
      "INFO:EOS:Prerun 4 out of 10\n",
      "INFO:EOS:Prerun 4: acceptance rate is  17%\n",
      "INFO:EOS:Prerun 5 out of 10\n",
      "INFO:EOS:Prerun 5: acceptance rate is  17%\n",
      "INFO:EOS:Prerun 6 out of 10\n",
      "INFO:EOS:Prerun 6: acceptance rate is  17%\n",
      "INFO:EOS:Prerun 7 out of 10\n",
      "INFO:EOS:Prerun 7: acceptance rate is  17%\n",
      "INFO:EOS:Prerun 8 out of 10\n",
      "INFO:EOS:Prerun 8: acceptance rate is  17%\n",
      "INFO:EOS:Prerun 9 out of 10\n",
      "INFO:EOS:Prerun 9: acceptance rate is  17%\n",
      "INFO:EOS:Main run: started ...\n",
      "INFO:EOS:Main run: acceptance rate is  31%\n",
      "INFO:EOS:Prerun 0 out of 10\n",
      "INFO:EOS:Prerun 0: acceptance rate is   0%\n",
      "INFO:EOS:Prerun 1 out of 10\n",
      "INFO:EOS:Prerun 1: acceptance rate is  19%\n",
      "INFO:EOS:Prerun 2 out of 10\n",
      "INFO:EOS:Prerun 2: acceptance rate is  20%\n",
      "INFO:EOS:Prerun 3 out of 10\n",
      "INFO:EOS:Prerun 3: acceptance rate is  20%\n",
      "INFO:EOS:Prerun 4 out of 10\n",
      "INFO:EOS:Prerun 4: acceptance rate is  19%\n",
      "INFO:EOS:Prerun 5 out of 10\n",
      "INFO:EOS:Prerun 5: acceptance rate is  20%\n",
      "INFO:EOS:Prerun 6 out of 10\n",
      "INFO:EOS:Prerun 6: acceptance rate is  20%\n",
      "INFO:EOS:Prerun 7 out of 10\n",
      "INFO:EOS:Prerun 7: acceptance rate is  20%\n",
      "INFO:EOS:Prerun 8 out of 10\n",
      "INFO:EOS:Prerun 8: acceptance rate is  20%\n",
      "INFO:EOS:Prerun 9 out of 10\n",
      "INFO:EOS:Prerun 9: acceptance rate is  20%\n",
      "INFO:EOS:Main run: started ...\n",
      "INFO:EOS:Main run: acceptance rate is  36%\n",
      "INFO:EOS:Prerun 0 out of 10\n",
      "INFO:EOS:Prerun 0: acceptance rate is   0%\n",
      "INFO:EOS:Prerun 1 out of 10\n",
      "INFO:EOS:Prerun 1: acceptance rate is   8%\n",
      "INFO:EOS:Prerun 2 out of 10\n",
      "INFO:EOS:Prerun 2: acceptance rate is  10%\n",
      "INFO:EOS:Prerun 3 out of 10\n",
      "INFO:EOS:Prerun 3: acceptance rate is  12%\n",
      "INFO:EOS:Prerun 4 out of 10\n",
      "INFO:EOS:Prerun 4: acceptance rate is  14%\n",
      "INFO:EOS:Prerun 5 out of 10\n",
      "INFO:EOS:Prerun 5: acceptance rate is  17%\n",
      "INFO:EOS:Prerun 6 out of 10\n",
      "INFO:EOS:Prerun 6: acceptance rate is  17%\n",
      "INFO:EOS:Prerun 7 out of 10\n",
      "INFO:EOS:Prerun 7: acceptance rate is  17%\n",
      "INFO:EOS:Prerun 8 out of 10\n",
      "INFO:EOS:Prerun 8: acceptance rate is  17%\n",
      "INFO:EOS:Prerun 9 out of 10\n",
      "INFO:EOS:Prerun 9: acceptance rate is  17%\n",
      "INFO:EOS:Main run: started ...\n",
      "INFO:EOS:Main run: acceptance rate is  30%\n"
     ]
    }
   ],
   "source": [
    "samples1,_=analysis1.sample(N=10000,preruns=10,pre_N=40000)\n",
    "samples2,_=analysis2.sample(N=10000,preruns=10,pre_N=40000)\n",
    "samples3,_=analysis3.sample(N=10000,preruns=10,pre_N=40000)\n",
    "samples,_=analysis.sample(N=10000,preruns=10,pre_N=40000)"
   ]
  },
  {
   "cell_type": "code",
   "execution_count": 45,
   "metadata": {},
   "outputs": [
    {
     "data": {
      "image/png": "[encoded data removed]",
      "text/plain": [
       "<Figure size 432x288 with 1 Axes>"
      ]
     },
     "metadata": {},
     "output_type": "display_data"
    }
   ],
   "source": [
    "plot_args = {\n",
    "    'plot': {\n",
    "        'x': { 'label': r'$\\mathcal{C}_{S} = \\mathcal{-C}_{P}$' ,'range': [-0.25, +0.10] },\n",
    "        'y': { 'label': r\"$\\mathcal{C}_{S}^{'} = \\mathcal{C}_{P}^{'}$\", 'range': [-0.25, +0.1]},\n",
    "        'legend':{'location': 'lower left'}\n",
    "    },\n",
    "    'contents': [\n",
    "        \n",
    "        {\n",
    "            'type': 'kde2D', 'label': r'$\\mathcal{B}(B^0_s \\to \\mu^+\\mu^-)$', 'color': 'C3',\n",
    "            'data': { 'samples': samples[:, (1,0)], },\n",
    "            'levels': [68.26,95.45],\n",
    "            'contours': ['areas','lines'],\n",
    "\n",
    "        },\n",
    "        \n",
    "        {\n",
    "            'label': 'theory', \n",
    "            'type': 'point', 'color': 'black', 'opacity': 5, 'markersize': 12,\n",
    "            'x': 0.0,\n",
    "            'y': 0.0,\n",
    "            'marker': 'x'\n",
    "        }\n",
    "\n",
    "        \n",
    "    ] \n",
    "            \n",
    "}\n",
    "eos.plot.Plotter(plot_args,'CS_CPConstrained.png').plot()"
   ]
  },
  {
   "cell_type": "markdown",
   "metadata": {},
   "source": [
    "## Including the effective lifetime:"
   ]
  },
  {
   "cell_type": "markdown",
   "metadata": {},
   "source": [
    " ### 5. $C_S$ and $\\tau_{eff}$ with the branching ratio (unconstrained)"
   ]
  },
  {
   "cell_type": "code",
   "execution_count": 46,
   "metadata": {},
   "outputs": [
    {
     "name": "stderr",
     "output_type": "stream",
     "text": [
      "INFO:EOS:Creating analysis with 2 priors, 1 EOS-wide constraints, 1 global options, 0 manually-entered constraints and 0 fixed parameters.\n",
      "INFO:EOS:likelihood probably depends on 136 parameter(s) that do not appear in the prior; check prior?\n",
      "INFO:EOS:Creating analysis with 2 priors, 1 EOS-wide constraints, 1 global options, 0 manually-entered constraints and 0 fixed parameters.\n",
      "INFO:EOS:likelihood probably depends on 136 parameter(s) that do not appear in the prior; check prior?\n",
      "INFO:EOS:Creating analysis with 2 priors, 1 EOS-wide constraints, 1 global options, 0 manually-entered constraints and 0 fixed parameters.\n",
      "INFO:EOS:likelihood probably depends on 136 parameter(s) that do not appear in the prior; check prior?\n",
      "INFO:EOS:Creating analysis with 2 priors, 3 EOS-wide constraints, 1 global options, 0 manually-entered constraints and 0 fixed parameters.\n",
      "INFO:EOS:likelihood probably depends on 136 parameter(s) that do not appear in the prior; check prior?\n"
     ]
    }
   ],
   "source": [
    "LHCb_analysis_args={\n",
    "    'global_options':{'model':'WilsonScan'},\n",
    "    'priors':[\n",
    "        {'parameter':'decay-constant::B_s','min':.200,'max':.260,'type':'gaussian', 'central':0.23,'sigma':0.01},\n",
    "        {'parameter':'b->smumu::Re{cS}','min':-8,'max':0,'type':'uniform'},\n",
    "    ],\n",
    "    'likelihood':[\n",
    "        'B^0_s->mu^+mu^-::BR@LHCb-2017A'      \n",
    "    ]\n",
    "}\n",
    "CMS_analysis_args={\n",
    "    'global_options':{'model':'WilsonScan'},\n",
    "    'priors':[\n",
    "        {'parameter':'decay-constant::B_s','min':.200,'max':.260,'type':'gaussian', 'central':0.23,'sigma':0.01},\n",
    "        {'parameter':'b->smumu::Re{cS}','min':-8,'max':0,'type':'uniform'},\n",
    "    ],\n",
    "    'likelihood':[\n",
    "        'B^0_s->mu^+mu^-::BR@CMS-2019A'      \n",
    "    ]\n",
    "}\n",
    "ATLAS_analysis_args={\n",
    "    'global_options':{'model':'WilsonScan'},\n",
    "    'priors':[\n",
    "        {'parameter':'decay-constant::B_s','min':.200,'max':.260,'type':'gaussian', 'central':0.23,'sigma':0.01},\n",
    "        {'parameter':'b->smumu::Re{cS}','min':-8,'max':0,'type':'uniform'},\n",
    "    ],\n",
    "    'likelihood':[\n",
    "        'B^0_s->mu^+mu^-::BR@ATLAS-2018A'     \n",
    "    ]\n",
    "}\n",
    "analysis_args={\n",
    "    'global_options':{'model':'WilsonScan'},\n",
    "    'priors':[\n",
    "        {'parameter':'decay-constant::B_s','min':.200,'max':.260,'type':'gaussian', 'central':0.23,'sigma':0.01},\n",
    "        {'parameter':'b->smumu::Re{cS}','min':-8,'max':0,'type':'uniform'},\n",
    "    ],\n",
    "    'likelihood':[\n",
    "        'B^0_s->mu^+mu^-::BR@LHCb-2017A','B^0_s->mu^+mu^-::BR@CMS-2019A','B^0_s->mu^+mu^-::BR@ATLAS-2018A'    \n",
    "    ]\n",
    "}\n",
    "analysis1=eos.Analysis(**LHCb_analysis_args)\n",
    "analysis2=eos.Analysis(**CMS_analysis_args)\n",
    "analysis3=eos.Analysis(**ATLAS_analysis_args)\n",
    "analysis=eos.Analysis(**analysis_args)\n",
    "\n",
    "opts=eos.Options(q='s',l='mu', model= 'WilsonScan')\n",
    "efflifetime1=eos.Observable.make('B_q->ll::eff_lifetime', analysis1.parameters, eos.Kinematics(), opts)\n",
    "efflifetime2=eos.Observable.make('B_q->ll::eff_lifetime', analysis2.parameters, eos.Kinematics(), opts)\n",
    "efflifetime3=eos.Observable.make('B_q->ll::eff_lifetime', analysis2.parameters, eos.Kinematics(), opts)\n",
    "efflifetime=eos.Observable.make('B_q->ll::eff_lifetime', analysis.parameters, eos.Kinematics(), opts)"
   ]
  },
  {
   "cell_type": "code",
   "execution_count": 47,
   "metadata": {},
   "outputs": [
    {
     "name": "stderr",
     "output_type": "stream",
     "text": [
      "INFO:EOS:Prerun 0 out of 10\n",
      "INFO:EOS:Prerun 0: acceptance rate is   3%\n",
      "INFO:EOS:Prerun 1 out of 10\n",
      "INFO:EOS:Prerun 1: acceptance rate is  14%\n",
      "INFO:EOS:Prerun 2 out of 10\n",
      "INFO:EOS:Prerun 2: acceptance rate is  29%\n",
      "INFO:EOS:Prerun 3 out of 10\n",
      "INFO:EOS:Prerun 3: acceptance rate is  36%\n",
      "INFO:EOS:Prerun 4 out of 10\n",
      "INFO:EOS:Prerun 4: acceptance rate is  33%\n",
      "INFO:EOS:Prerun 5 out of 10\n",
      "INFO:EOS:Prerun 5: acceptance rate is  36%\n",
      "INFO:EOS:Prerun 6 out of 10\n",
      "INFO:EOS:Prerun 6: acceptance rate is  31%\n",
      "INFO:EOS:Prerun 7 out of 10\n",
      "INFO:EOS:Prerun 7: acceptance rate is  31%\n",
      "INFO:EOS:Prerun 8 out of 10\n",
      "INFO:EOS:Prerun 8: acceptance rate is  32%\n",
      "INFO:EOS:Prerun 9 out of 10\n",
      "INFO:EOS:Prerun 9: acceptance rate is  32%\n",
      "INFO:EOS:Main run: started ...\n",
      "INFO:EOS:Main run: acceptance rate is  59%\n",
      "INFO:EOS:Prerun 0 out of 10\n",
      "INFO:EOS:Prerun 0: acceptance rate is   3%\n",
      "INFO:EOS:Prerun 1 out of 10\n",
      "INFO:EOS:Prerun 1: acceptance rate is  18%\n",
      "INFO:EOS:Prerun 2 out of 10\n",
      "INFO:EOS:Prerun 2: acceptance rate is  28%\n",
      "INFO:EOS:Prerun 3 out of 10\n",
      "INFO:EOS:Prerun 3: acceptance rate is  33%\n",
      "INFO:EOS:Prerun 4 out of 10\n",
      "INFO:EOS:Prerun 4: acceptance rate is  36%\n",
      "INFO:EOS:Prerun 5 out of 10\n",
      "INFO:EOS:Prerun 5: acceptance rate is  31%\n",
      "INFO:EOS:Prerun 6 out of 10\n",
      "INFO:EOS:Prerun 6: acceptance rate is  31%\n",
      "INFO:EOS:Prerun 7 out of 10\n",
      "INFO:EOS:Prerun 7: acceptance rate is  32%\n",
      "INFO:EOS:Prerun 8 out of 10\n",
      "INFO:EOS:Prerun 8: acceptance rate is  32%\n",
      "INFO:EOS:Prerun 9 out of 10\n",
      "INFO:EOS:Prerun 9: acceptance rate is  33%\n",
      "INFO:EOS:Main run: started ...\n",
      "INFO:EOS:Main run: acceptance rate is  59%\n",
      "INFO:EOS:Prerun 0 out of 10\n",
      "INFO:EOS:Prerun 0: acceptance rate is   3%\n",
      "INFO:EOS:Prerun 1 out of 10\n",
      "INFO:EOS:Prerun 1: acceptance rate is  24%\n",
      "INFO:EOS:Prerun 2 out of 10\n",
      "INFO:EOS:Prerun 2: acceptance rate is  32%\n",
      "INFO:EOS:Prerun 3 out of 10\n",
      "INFO:EOS:Prerun 3: acceptance rate is  36%\n",
      "INFO:EOS:Prerun 4 out of 10\n",
      "INFO:EOS:Prerun 4: acceptance rate is  30%\n",
      "INFO:EOS:Prerun 5 out of 10\n",
      "INFO:EOS:Prerun 5: acceptance rate is  32%\n",
      "INFO:EOS:Prerun 6 out of 10\n",
      "INFO:EOS:Prerun 6: acceptance rate is  32%\n",
      "INFO:EOS:Prerun 7 out of 10\n",
      "INFO:EOS:Prerun 7: acceptance rate is  33%\n",
      "INFO:EOS:Prerun 8 out of 10\n",
      "INFO:EOS:Prerun 8: acceptance rate is  33%\n",
      "INFO:EOS:Prerun 9 out of 10\n",
      "INFO:EOS:Prerun 9: acceptance rate is  32%\n",
      "INFO:EOS:Main run: started ...\n",
      "INFO:EOS:Main run: acceptance rate is  59%\n",
      "INFO:EOS:Prerun 0 out of 10\n",
      "INFO:EOS:Prerun 0: acceptance rate is   2%\n",
      "INFO:EOS:Prerun 1 out of 10\n",
      "INFO:EOS:Prerun 1: acceptance rate is  15%\n",
      "INFO:EOS:Prerun 2 out of 10\n",
      "INFO:EOS:Prerun 2: acceptance rate is  29%\n",
      "INFO:EOS:Prerun 3 out of 10\n",
      "INFO:EOS:Prerun 3: acceptance rate is  36%\n",
      "INFO:EOS:Prerun 4 out of 10\n",
      "INFO:EOS:Prerun 4: acceptance rate is  33%\n",
      "INFO:EOS:Prerun 5 out of 10\n",
      "INFO:EOS:Prerun 5: acceptance rate is  36%\n",
      "INFO:EOS:Prerun 6 out of 10\n",
      "INFO:EOS:Prerun 6: acceptance rate is  30%\n",
      "INFO:EOS:Prerun 7 out of 10\n",
      "INFO:EOS:Prerun 7: acceptance rate is  31%\n",
      "INFO:EOS:Prerun 8 out of 10\n",
      "INFO:EOS:Prerun 8: acceptance rate is  32%\n",
      "INFO:EOS:Prerun 9 out of 10\n",
      "INFO:EOS:Prerun 9: acceptance rate is  32%\n",
      "INFO:EOS:Main run: started ...\n",
      "INFO:EOS:Main run: acceptance rate is  58%\n"
     ]
    }
   ],
   "source": [
    "samples1,_,obssamples1=analysis1.sample(N=10000,preruns=10,pre_N=40000, observables=[efflifetime1])\n",
    "samples2,_,obssamples2=analysis2.sample(N=10000,preruns=10,pre_N=40000, observables=[efflifetime2])\n",
    "samples3,_,obssamples3=analysis3.sample(N=10000,preruns=10,pre_N=40000, observables=[efflifetime3])\n",
    "samples,_,obssamples=analysis.sample(N=10000,preruns=10,pre_N=40000, observables=[efflifetime])"
   ]
  },
  {
   "cell_type": "code",
   "execution_count": 48,
   "metadata": {},
   "outputs": [
    {
     "name": "stderr",
     "output_type": "stream",
     "text": [
      "WARNING:EOS:Argument plot:y:format might be required when using plot:y:scale to avoid side effects\n"
     ]
    },
    {
     "data": {
      "image/png": "[encoded data removed]",
      "text/plain": [
       "<Figure size 432x288 with 1 Axes>"
      ]
     },
     "metadata": {},
     "output_type": "display_data"
    }
   ],
   "source": [
    "plot_args = {\n",
    "    'plot': {\n",
    "        'x': { 'label': r'$C_{S}$' ,'range': [-8, +0] },\n",
    "        'y': { 'label': r'$\\tau_{eff}$', 'range': [2.3e+12, 2.55e+12], 'scale': 1e+12},\n",
    "        'legend':{'location': 'lower left'}\n",
    "    },\n",
    "    'contents': [\n",
    "        \n",
    "              {\n",
    "            'type': 'histogram2D', \n",
    "            'data': { 'samples': np.vstack((samples1[:, 1],obssamples1[:, 0])).T, }\n",
    "        },\n",
    "             {\n",
    "            'type': 'histogram2D', \n",
    "            'data': { 'samples': np.vstack((samples2[:, 1],obssamples2[:, 0])).T, }\n",
    "        },\n",
    "            {\n",
    "            'type': 'histogram2D', \n",
    "            'data': { 'samples': np.vstack((samples3[:, 1],obssamples3[:, 0])).T, }\n",
    "        },\n",
    "          {\n",
    "            'type': 'histogram2D', \n",
    "            'data': { 'samples': np.vstack((samples[:, 1],obssamples[:, 0])).T, }\n",
    "        },\n",
    "\n",
    "        \n",
    "    ] \n",
    "            \n",
    "}\n",
    "eos.plot.Plotter(plot_args).plot()"
   ]
  },
  {
   "cell_type": "code",
   "execution_count": 49,
   "metadata": {},
   "outputs": [
    {
     "name": "stderr",
     "output_type": "stream",
     "text": [
      "WARNING:EOS:Argument plot:y:format might be required when using plot:y:scale to avoid side effects\n"
     ]
    },
    {
     "data": {
      "image/png": "[encoded data removed]",
      "text/plain": [
       "<Figure size 432x288 with 1 Axes>"
      ]
     },
     "metadata": {},
     "output_type": "display_data"
    }
   ],
   "source": [
    "plot_args = {\n",
    "    'plot': {\n",
    "        'x': {'label': r'$\\rm{Re}(C_{S})$' ,'range': [-0.1, +0.04] },\n",
    "        'y': { 'label': r'$\\tau_{eff}$', 'range': [2.38e+12, 2.5e+12], 'scale': 1e+12},\n",
    "        'legend':{'location': 'upper left'}\n",
    "    },\n",
    "'contents': [\n",
    "        \n",
    "\n",
    "        {\n",
    "            'type': 'kde2D', 'color': 'C0', 'label': r'$\\mathcal{B}(B^0_s \\to \\mu^+\\mu^-)$',\n",
    "            'range': [1.5e+12, 2.8e+12], 'levels': [0,68.26,95.45],'bandwidth':3,\n",
    "            'data': {'samples': np.vstack((samples[:, 1],obssamples[:, 0])).T, },\n",
    "            'contours': ['areas','lines'],\n",
    "        },\n",
    "\n",
    "\n",
    "    \n",
    "        {\n",
    "            'label': 'theory', \n",
    "            'type': 'point', 'color': 'black', 'opacity': 5, 'markersize': 12,\n",
    "            'x': 0.0,\n",
    "            'y': 2.454e+12,\n",
    "            'marker': 'x',\n",
    "            \n",
    "        }\n",
    "     \n",
    "    ] \n",
    "            \n",
    "}\n",
    "eos.plot.Plotter(plot_args,'Efflifetime_unconstrained.png').plot()"
   ]
  },
  {
   "cell_type": "markdown",
   "metadata": {},
   "source": [
    " ### 6. $C_S$ and $\\tau_{eff}$ with the branching ratio (constrained)"
   ]
  },
  {
   "cell_type": "code",
   "execution_count": 50,
   "metadata": {},
   "outputs": [
    {
     "name": "stderr",
     "output_type": "stream",
     "text": [
      "INFO:EOS:Creating analysis with 2 priors, 1 EOS-wide constraints, 1 global options, 0 manually-entered constraints and 0 fixed parameters.\n",
      "INFO:EOS:likelihood probably depends on 120 parameter(s) that do not appear in the prior; check prior?\n",
      "INFO:EOS:Creating analysis with 2 priors, 1 EOS-wide constraints, 1 global options, 0 manually-entered constraints and 0 fixed parameters.\n",
      "INFO:EOS:likelihood probably depends on 120 parameter(s) that do not appear in the prior; check prior?\n",
      "INFO:EOS:Creating analysis with 2 priors, 1 EOS-wide constraints, 1 global options, 0 manually-entered constraints and 0 fixed parameters.\n",
      "INFO:EOS:likelihood probably depends on 120 parameter(s) that do not appear in the prior; check prior?\n",
      "INFO:EOS:Creating analysis with 2 priors, 3 EOS-wide constraints, 1 global options, 0 manually-entered constraints and 0 fixed parameters.\n",
      "INFO:EOS:likelihood probably depends on 120 parameter(s) that do not appear in the prior; check prior?\n"
     ]
    }
   ],
   "source": [
    "LHCb_analysis_args={\n",
    "    'global_options':{'model':'ConstrainedWilsonScan'},\n",
    "    'priors':[\n",
    "        {'parameter':'decay-constant::B_s','min':.200,'max':.260,'type':'gaussian', 'central':0.23,'sigma':0.01},\n",
    "        {'parameter':'b->smumu::Re{cS}','min':-8,'max':0,'type':'uniform'},\n",
    "    ],\n",
    "    'likelihood':[\n",
    "        'B^0_s->mu^+mu^-::BR@LHCb-2017A'      \n",
    "    ]\n",
    "}\n",
    "CMS_analysis_args={\n",
    "    'global_options':{'model':'ConstrainedWilsonScan'},\n",
    "    'priors':[\n",
    "        {'parameter':'decay-constant::B_s','min':.200,'max':.260,'type':'gaussian', 'central':0.23,'sigma':0.01},\n",
    "        {'parameter':'b->smumu::Re{cS}','min':-8,'max':0,'type':'uniform'},\n",
    "    ],\n",
    "    'likelihood':[\n",
    "        'B^0_s->mu^+mu^-::BR@CMS-2019A'      \n",
    "    ]\n",
    "}\n",
    "ATLAS_analysis_args={\n",
    "    'global_options':{'model':'ConstrainedWilsonScan'},\n",
    "    'priors':[\n",
    "        {'parameter':'decay-constant::B_s','min':.200,'max':.260,'type':'gaussian', 'central':0.23,'sigma':0.01},\n",
    "        {'parameter':'b->smumu::Re{cS}','min':-8,'max':0,'type':'uniform'},\n",
    "    ],\n",
    "    'likelihood':[\n",
    "        'B^0_s->mu^+mu^-::BR@ATLAS-2018A'     \n",
    "    ]\n",
    "}\n",
    "analysis_args={\n",
    "    'global_options':{'model':'ConstrainedWilsonScan'},\n",
    "    'priors':[\n",
    "        {'parameter':'decay-constant::B_s','min':.200,'max':.260,'type':'gaussian', 'central':0.23,'sigma':0.01},\n",
    "        {'parameter':'b->smumu::Re{cS}','min':-8,'max':0,'type':'uniform'},\n",
    "    ],\n",
    "    'likelihood':[\n",
    "        'B^0_s->mu^+mu^-::BR@LHCb-2017A','B^0_s->mu^+mu^-::BR@CMS-2019A','B^0_s->mu^+mu^-::BR@ATLAS-2018A'    \n",
    "    ]\n",
    "}\n",
    "analysis1=eos.Analysis(**LHCb_analysis_args)\n",
    "analysis2=eos.Analysis(**CMS_analysis_args)\n",
    "analysis3=eos.Analysis(**ATLAS_analysis_args)\n",
    "analysis=eos.Analysis(**analysis_args)\n",
    "\n",
    "opts=eos.Options(q='s',l='mu', model= 'ConstrainedWilsonScan')\n",
    "efflifetime1=eos.Observable.make('B_q->ll::eff_lifetime', analysis1.parameters, eos.Kinematics(), opts)\n",
    "efflifetime2=eos.Observable.make('B_q->ll::eff_lifetime', analysis2.parameters, eos.Kinematics(), opts)\n",
    "efflifetime3=eos.Observable.make('B_q->ll::eff_lifetime', analysis2.parameters, eos.Kinematics(), opts)\n",
    "efflifetime=eos.Observable.make('B_q->ll::eff_lifetime', analysis.parameters, eos.Kinematics(), opts)"
   ]
  },
  {
   "cell_type": "code",
   "execution_count": 51,
   "metadata": {},
   "outputs": [
    {
     "name": "stderr",
     "output_type": "stream",
     "text": [
      "INFO:EOS:Prerun 0 out of 10\n",
      "INFO:EOS:Prerun 0: acceptance rate is   5%\n",
      "INFO:EOS:Prerun 1 out of 10\n",
      "INFO:EOS:Prerun 1: acceptance rate is  21%\n",
      "INFO:EOS:Prerun 2 out of 10\n",
      "INFO:EOS:Prerun 2: acceptance rate is  25%\n",
      "INFO:EOS:Prerun 3 out of 10\n",
      "INFO:EOS:Prerun 3: acceptance rate is  26%\n",
      "INFO:EOS:Prerun 4 out of 10\n",
      "INFO:EOS:Prerun 4: acceptance rate is  26%\n",
      "INFO:EOS:Prerun 5 out of 10\n",
      "INFO:EOS:Prerun 5: acceptance rate is  27%\n",
      "INFO:EOS:Prerun 6 out of 10\n",
      "INFO:EOS:Prerun 6: acceptance rate is  27%\n",
      "INFO:EOS:Prerun 7 out of 10\n",
      "INFO:EOS:Prerun 7: acceptance rate is  27%\n",
      "INFO:EOS:Prerun 8 out of 10\n",
      "INFO:EOS:Prerun 8: acceptance rate is  27%\n",
      "INFO:EOS:Prerun 9 out of 10\n",
      "INFO:EOS:Prerun 9: acceptance rate is  28%\n",
      "INFO:EOS:Main run: started ...\n",
      "INFO:EOS:Main run: acceptance rate is  49%\n",
      "INFO:EOS:Prerun 0 out of 10\n",
      "INFO:EOS:Prerun 0: acceptance rate is   5%\n",
      "INFO:EOS:Prerun 1 out of 10\n",
      "INFO:EOS:Prerun 1: acceptance rate is  28%\n",
      "INFO:EOS:Prerun 2 out of 10\n",
      "INFO:EOS:Prerun 2: acceptance rate is  29%\n",
      "INFO:EOS:Prerun 3 out of 10\n",
      "INFO:EOS:Prerun 3: acceptance rate is  29%\n",
      "INFO:EOS:Prerun 4 out of 10\n",
      "INFO:EOS:Prerun 4: acceptance rate is  30%\n",
      "INFO:EOS:Prerun 5 out of 10\n",
      "INFO:EOS:Prerun 5: acceptance rate is  30%\n",
      "INFO:EOS:Prerun 6 out of 10\n",
      "INFO:EOS:Prerun 6: acceptance rate is  29%\n",
      "INFO:EOS:Prerun 7 out of 10\n",
      "INFO:EOS:Prerun 7: acceptance rate is  29%\n",
      "INFO:EOS:Prerun 8 out of 10\n",
      "INFO:EOS:Prerun 8: acceptance rate is  30%\n",
      "INFO:EOS:Prerun 9 out of 10\n",
      "INFO:EOS:Prerun 9: acceptance rate is  30%\n",
      "INFO:EOS:Main run: started ...\n",
      "INFO:EOS:Main run: acceptance rate is  53%\n",
      "INFO:EOS:Prerun 0 out of 10\n",
      "INFO:EOS:Prerun 0: acceptance rate is   6%\n",
      "INFO:EOS:Prerun 1 out of 10\n",
      "INFO:EOS:Prerun 1: acceptance rate is  19%\n",
      "INFO:EOS:Prerun 2 out of 10\n",
      "INFO:EOS:Prerun 2: acceptance rate is  27%\n",
      "INFO:EOS:Prerun 3 out of 10\n",
      "INFO:EOS:Prerun 3: acceptance rate is  30%\n",
      "INFO:EOS:Prerun 4 out of 10\n",
      "INFO:EOS:Prerun 4: acceptance rate is  32%\n",
      "INFO:EOS:Prerun 5 out of 10\n",
      "INFO:EOS:Prerun 5: acceptance rate is  32%\n",
      "INFO:EOS:Prerun 6 out of 10\n",
      "INFO:EOS:Prerun 6: acceptance rate is  33%\n",
      "INFO:EOS:Prerun 7 out of 10\n",
      "INFO:EOS:Prerun 7: acceptance rate is  34%\n",
      "INFO:EOS:Prerun 8 out of 10\n",
      "INFO:EOS:Prerun 8: acceptance rate is  34%\n",
      "INFO:EOS:Prerun 9 out of 10\n",
      "INFO:EOS:Prerun 9: acceptance rate is  34%\n",
      "INFO:EOS:Main run: started ...\n",
      "INFO:EOS:Main run: acceptance rate is  61%\n",
      "INFO:EOS:Prerun 0 out of 10\n",
      "INFO:EOS:Prerun 0: acceptance rate is   3%\n",
      "INFO:EOS:Prerun 1 out of 10\n",
      "INFO:EOS:Prerun 1: acceptance rate is  15%\n",
      "INFO:EOS:Prerun 2 out of 10\n",
      "INFO:EOS:Prerun 2: acceptance rate is  16%\n",
      "INFO:EOS:Prerun 3 out of 10\n",
      "INFO:EOS:Prerun 3: acceptance rate is  16%\n",
      "INFO:EOS:Prerun 4 out of 10\n",
      "INFO:EOS:Prerun 4: acceptance rate is  16%\n",
      "INFO:EOS:Prerun 5 out of 10\n",
      "INFO:EOS:Prerun 5: acceptance rate is  16%\n",
      "INFO:EOS:Prerun 6 out of 10\n",
      "INFO:EOS:Prerun 6: acceptance rate is  16%\n",
      "INFO:EOS:Prerun 7 out of 10\n",
      "INFO:EOS:Prerun 7: acceptance rate is  16%\n",
      "INFO:EOS:Prerun 8 out of 10\n",
      "INFO:EOS:Prerun 8: acceptance rate is  16%\n",
      "INFO:EOS:Prerun 9 out of 10\n",
      "INFO:EOS:Prerun 9: acceptance rate is  16%\n",
      "INFO:EOS:Main run: started ...\n",
      "INFO:EOS:Main run: acceptance rate is  29%\n"
     ]
    }
   ],
   "source": [
    "samples1,_,obssamples1=analysis1.sample(N=10000,preruns=10,pre_N=40000, observables=[efflifetime1])\n",
    "samples2,_,obssamples2=analysis2.sample(N=10000,preruns=10,pre_N=40000, observables=[efflifetime2])\n",
    "samples3,_,obssamples3=analysis3.sample(N=10000,preruns=10,pre_N=40000, observables=[efflifetime3])\n",
    "samples,_,obssamples=analysis.sample(N=10000,preruns=10,pre_N=40000, observables=[efflifetime])"
   ]
  },
  {
   "cell_type": "code",
   "execution_count": 52,
   "metadata": {},
   "outputs": [
    {
     "name": "stderr",
     "output_type": "stream",
     "text": [
      "WARNING:EOS:Argument plot:y:format might be required when using plot:y:scale to avoid side effects\n"
     ]
    },
    {
     "data": {
      "image/png": "[encoded data removed]",
      "text/plain": [
       "<Figure size 432x288 with 1 Axes>"
      ]
     },
     "metadata": {},
     "output_type": "display_data"
    }
   ],
   "source": [
    "plot_args = {\n",
    "    'plot': {\n",
    "        'x': {'label': r'$\\rm{Re}(C_{S})$' ,'range': [-0.25, +0.09] },\n",
    "        'y': { 'label': r'$\\tau_{eff}$', 'range': [1.9e+12, 2.8e+12], 'scale': 1e+12},\n",
    "        'legend':{'location': 'upper left'}\n",
    "    },\n",
    "'contents': [\n",
    "        \n",
    "\n",
    "        {\n",
    "            'type': 'kde2D', 'color': 'C0', 'label': r'$\\mathcal{B}(B^0_s \\to \\mu^+\\mu^-)$',\n",
    "            'range': [1.5e+12, 2.8e+12], 'levels': [68.26,95.45],'bandwidth':3,\n",
    "            'data': {'samples': np.vstack((samples[:, 1],obssamples[:, 0])).T, },\n",
    "            'contours': ['areas','lines'],\n",
    "        },\n",
    "\n",
    "    \n",
    "        {\n",
    "            'label': 'theory', \n",
    "            'type': 'point', 'color': 'black', 'opacity': 5, 'markersize': 12,\n",
    "            'x': 0.0,\n",
    "            'y': 2.454e+12,\n",
    "            'marker': 'x',\n",
    "            \n",
    "        }\n",
    "     \n",
    "    ] \n",
    "            \n",
    "}\n",
    "eos.plot.Plotter(plot_args,'Efflifetime_constrained.png').plot()"
   ]
  },
  {
   "cell_type": "markdown",
   "metadata": {},
   "source": [
    "## Theoretical uncertainties and their sensitivity to New Physics : "
   ]
  },
  {
   "cell_type": "markdown",
   "metadata": {},
   "source": [
    "### 1. $f_{B_s}$ and $C_{10}$ with the branching ratio"
   ]
  },
  {
   "cell_type": "code",
   "execution_count": 53,
   "metadata": {},
   "outputs": [
    {
     "name": "stderr",
     "output_type": "stream",
     "text": [
      "INFO:EOS:Creating analysis with 2 priors, 1 EOS-wide constraints, 1 global options, 0 manually-entered constraints and 0 fixed parameters.\n",
      "INFO:EOS:likelihood probably depends on 136 parameter(s) that do not appear in the prior; check prior?\n",
      "INFO:EOS:Creating analysis with 2 priors, 1 EOS-wide constraints, 1 global options, 0 manually-entered constraints and 0 fixed parameters.\n",
      "INFO:EOS:likelihood probably depends on 136 parameter(s) that do not appear in the prior; check prior?\n",
      "INFO:EOS:Creating analysis with 2 priors, 1 EOS-wide constraints, 1 global options, 0 manually-entered constraints and 0 fixed parameters.\n",
      "INFO:EOS:likelihood probably depends on 136 parameter(s) that do not appear in the prior; check prior?\n",
      "INFO:EOS:Creating analysis with 2 priors, 3 EOS-wide constraints, 1 global options, 0 manually-entered constraints and 0 fixed parameters.\n",
      "INFO:EOS:likelihood probably depends on 136 parameter(s) that do not appear in the prior; check prior?\n"
     ]
    }
   ],
   "source": [
    "ATLAS_analysis_args={\n",
    "    'global_options':{'model':'WilsonScan'},\n",
    "    'priors':[\n",
    "         {'parameter':'decay-constant::B_s','min':.200,'max':.260,'type':'gaussian', 'central':0.23,'sigma':0.01},\n",
    "         {'parameter':'b->smumu::Re{c10}','min':-8,'max':0,'type':'uniform'},\n",
    "    ],\n",
    "    'likelihood':[\n",
    "        'B^0_s->mu^+mu^-::BR@ATLAS-2018A'      \n",
    "    ]\n",
    "}\n",
    "LHCb2017_analysis_args={\n",
    "    'global_options':{'model':'WilsonScan'},\n",
    "    'priors':[\n",
    "         {'parameter':'decay-constant::B_s','min':.200,'max':.260,'type':'gaussian', 'central':0.23,'sigma':0.01},\n",
    "         {'parameter':'b->smumu::Re{c10}','min':-8,'max':0,'type':'uniform'},\n",
    "    ],\n",
    "    'likelihood':[\n",
    "        'B^0_s->mu^+mu^-::BR@LHCb-2017A'      \n",
    "    ]\n",
    "}\n",
    "CMS2019_analysis_args={\n",
    "    'global_options':{'model':'WilsonScan'},\n",
    "    'priors':[\n",
    "         {'parameter':'decay-constant::B_s','min':.200,'max':.260,'type':'gaussian', 'central':0.23,'sigma':0.01},\n",
    "         {'parameter':'b->smumu::Re{c10}','min':-8,'max':0,'type':'uniform'},\n",
    "    ],\n",
    "    'likelihood':[\n",
    "        'B^0_s->mu^+mu^-::BR@CMS-2019A'\n",
    "    ]\n",
    "}\n",
    "analysis_args={\n",
    "    'global_options':{'model':'WilsonScan'},\n",
    "    'priors':[\n",
    "        {'parameter':'decay-constant::B_s','min':.200,'max':.260,'type':'gaussian', 'central':0.23,'sigma':0.01},\n",
    "        {'parameter':'b->smumu::Re{c10}','min':-8,'max':0,'type':'uniform'},\n",
    "    ],\n",
    "    'likelihood':[\n",
    "        'B^0_s->mu^+mu^-::BR@LHCb-2017A','B^0_s->mu^+mu^-::BR@ATLAS-2018A', 'B^0_s->mu^+mu^-::BR@CMS-2019A'\n",
    "        \n",
    "    ]\n",
    "}\n",
    "analysis1=eos.Analysis(**ATLAS_analysis_args)\n",
    "analysis2=eos.Analysis(**LHCb2017_analysis_args)\n",
    "analysis3=eos.Analysis(**CMS2019_analysis_args)\n",
    "analysis=eos.Analysis(**analysis_args)"
   ]
  },
  {
   "cell_type": "code",
   "execution_count": 54,
   "metadata": {},
   "outputs": [
    {
     "name": "stderr",
     "output_type": "stream",
     "text": [
      "INFO:EOS:Prerun 0 out of 10\n",
      "INFO:EOS:Prerun 0: acceptance rate is  55%\n",
      "INFO:EOS:Prerun 1 out of 10\n",
      "INFO:EOS:Prerun 1: acceptance rate is  27%\n",
      "INFO:EOS:Prerun 2 out of 10\n",
      "INFO:EOS:Prerun 2: acceptance rate is  28%\n",
      "INFO:EOS:Prerun 3 out of 10\n",
      "INFO:EOS:Prerun 3: acceptance rate is  28%\n",
      "INFO:EOS:Prerun 4 out of 10\n",
      "INFO:EOS:Prerun 4: acceptance rate is  28%\n",
      "INFO:EOS:Prerun 5 out of 10\n",
      "INFO:EOS:Prerun 5: acceptance rate is  27%\n",
      "INFO:EOS:Prerun 6 out of 10\n",
      "INFO:EOS:Prerun 6: acceptance rate is  28%\n",
      "INFO:EOS:Prerun 7 out of 10\n",
      "INFO:EOS:Prerun 7: acceptance rate is  28%\n",
      "INFO:EOS:Prerun 8 out of 10\n",
      "INFO:EOS:Prerun 8: acceptance rate is  28%\n",
      "INFO:EOS:Prerun 9 out of 10\n",
      "INFO:EOS:Prerun 9: acceptance rate is  28%\n",
      "INFO:EOS:Main run: started ...\n",
      "INFO:EOS:Main run: acceptance rate is  50%\n",
      "INFO:EOS:Prerun 0 out of 10\n",
      "INFO:EOS:Prerun 0: acceptance rate is  50%\n",
      "INFO:EOS:Prerun 1 out of 10\n",
      "INFO:EOS:Prerun 1: acceptance rate is  28%\n",
      "INFO:EOS:Prerun 2 out of 10\n",
      "INFO:EOS:Prerun 2: acceptance rate is  28%\n",
      "INFO:EOS:Prerun 3 out of 10\n",
      "INFO:EOS:Prerun 3: acceptance rate is  28%\n",
      "INFO:EOS:Prerun 4 out of 10\n",
      "INFO:EOS:Prerun 4: acceptance rate is  28%\n",
      "INFO:EOS:Prerun 5 out of 10\n",
      "INFO:EOS:Prerun 5: acceptance rate is  29%\n",
      "INFO:EOS:Prerun 6 out of 10\n",
      "INFO:EOS:Prerun 6: acceptance rate is  28%\n",
      "INFO:EOS:Prerun 7 out of 10\n",
      "INFO:EOS:Prerun 7: acceptance rate is  28%\n",
      "INFO:EOS:Prerun 8 out of 10\n",
      "INFO:EOS:Prerun 8: acceptance rate is  28%\n",
      "INFO:EOS:Prerun 9 out of 10\n",
      "INFO:EOS:Prerun 9: acceptance rate is  28%\n",
      "INFO:EOS:Main run: started ...\n",
      "INFO:EOS:Main run: acceptance rate is  50%\n",
      "INFO:EOS:Prerun 0 out of 10\n",
      "INFO:EOS:Prerun 0: acceptance rate is  51%\n",
      "INFO:EOS:Prerun 1 out of 10\n",
      "INFO:EOS:Prerun 1: acceptance rate is  28%\n",
      "INFO:EOS:Prerun 2 out of 10\n",
      "INFO:EOS:Prerun 2: acceptance rate is  28%\n",
      "INFO:EOS:Prerun 3 out of 10\n",
      "INFO:EOS:Prerun 3: acceptance rate is  28%\n",
      "INFO:EOS:Prerun 4 out of 10\n",
      "INFO:EOS:Prerun 4: acceptance rate is  28%\n",
      "INFO:EOS:Prerun 5 out of 10\n",
      "INFO:EOS:Prerun 5: acceptance rate is  28%\n",
      "INFO:EOS:Prerun 6 out of 10\n",
      "INFO:EOS:Prerun 6: acceptance rate is  27%\n",
      "INFO:EOS:Prerun 7 out of 10\n",
      "INFO:EOS:Prerun 7: acceptance rate is  28%\n",
      "INFO:EOS:Prerun 8 out of 10\n",
      "INFO:EOS:Prerun 8: acceptance rate is  29%\n",
      "INFO:EOS:Prerun 9 out of 10\n",
      "INFO:EOS:Prerun 9: acceptance rate is  27%\n",
      "INFO:EOS:Main run: started ...\n",
      "INFO:EOS:Main run: acceptance rate is  50%\n",
      "INFO:EOS:Prerun 0 out of 10\n",
      "INFO:EOS:Prerun 0: acceptance rate is  36%\n",
      "INFO:EOS:Prerun 1 out of 10\n",
      "INFO:EOS:Prerun 1: acceptance rate is  28%\n",
      "INFO:EOS:Prerun 2 out of 10\n",
      "INFO:EOS:Prerun 2: acceptance rate is  28%\n",
      "INFO:EOS:Prerun 3 out of 10\n",
      "INFO:EOS:Prerun 3: acceptance rate is  28%\n",
      "INFO:EOS:Prerun 4 out of 10\n",
      "INFO:EOS:Prerun 4: acceptance rate is  29%\n",
      "INFO:EOS:Prerun 5 out of 10\n",
      "INFO:EOS:Prerun 5: acceptance rate is  28%\n",
      "INFO:EOS:Prerun 6 out of 10\n",
      "INFO:EOS:Prerun 6: acceptance rate is  29%\n",
      "INFO:EOS:Prerun 7 out of 10\n",
      "INFO:EOS:Prerun 7: acceptance rate is  28%\n",
      "INFO:EOS:Prerun 8 out of 10\n",
      "INFO:EOS:Prerun 8: acceptance rate is  29%\n",
      "INFO:EOS:Prerun 9 out of 10\n",
      "INFO:EOS:Prerun 9: acceptance rate is  29%\n",
      "INFO:EOS:Main run: started ...\n",
      "INFO:EOS:Main run: acceptance rate is  51%\n"
     ]
    }
   ],
   "source": [
    "samples1,_=analysis1.sample(N=10000,preruns=10,pre_N=40000)\n",
    "samples2,_=analysis2.sample(N=10000,preruns=10,pre_N=40000)\n",
    "samples3,_=analysis3.sample(N=10000,preruns=10,pre_N=40000)\n",
    "samples,_=analysis.sample(N=10000,preruns=10,pre_N=40000)"
   ]
  },
  {
   "cell_type": "code",
   "execution_count": 55,
   "metadata": {},
   "outputs": [
    {
     "name": "stderr",
     "output_type": "stream",
     "text": [
      "WARNING:EOS:Argument plot:x:format is only used when plot:x:scale is used\n",
      "WARNING:EOS:Argument plot:y:format is only used when plot:y:scale is used\n"
     ]
    },
    {
     "data": {
      "image/png": "[encoded data removed]",
      "text/plain": [
       "<Figure size 432x288 with 1 Axes>"
      ]
     },
     "metadata": {},
     "output_type": "display_data"
    }
   ],
   "source": [
    "plot_args = {\n",
    "    'plot': {\n",
    "        'x': { 'label': r'$f_{B_{s}}$','unit': r'$\\rm{GeV}$' ,'range': [.18, 0.28], 'format': '${x:.3f}$' },\n",
    "        'y': { 'label': r'$\\rm{Re}(C_{10})$', 'range': [-6, -1], 'format': '${x:.2f}$' },\n",
    "        'legend':{'location': 'lower right'}\n",
    "    },\n",
    "    'contents': [\n",
    "\n",
    "              {\n",
    "            'type': 'kde2D', 'color': 'C2', 'label': 'LHCb',\n",
    "            'range': [0.18, 0.28], 'levels': [0,68.2689,95.45], 'bandwidth': 3,\n",
    "            'data': { 'samples': samples2[:, (0,1)], },\n",
    "            'contours': ['lines']\n",
    "        },\n",
    "             {\n",
    "            'type': 'kde2D', 'color': 'C3', 'label': 'CMS',\n",
    "            'range': [0.18, 0.28], 'levels': [0,68.2689,95.45], 'bandwidth': 3,\n",
    "            'data': { 'samples': samples3[:, (0,1)], },\n",
    "            'contours': ['lines']\n",
    "        },\n",
    "\n",
    "        {\n",
    "            'type': 'kde2D', 'color': 'C0', 'label': 'ATLAS',\n",
    "            'range': [0.18, 0.28], 'levels': [0,68.2689,95.45], 'bandwidth': 3,\n",
    "            'data': { 'samples': samples1[:, (0,1)], },\n",
    "            'contours': ['lines']\n",
    "        },\n",
    "        \n",
    "        {\n",
    "            'label': 'theory', \n",
    "            'type': 'point', 'color': 'black', 'opacity': 5, 'markersize': 12,\n",
    "            'x': 0.2307,\n",
    "            'y': -4.16611761,\n",
    "            'marker': 'x'\n",
    "        }\n",
    "        \n",
    "    ] \n",
    "            \n",
    "}\n",
    "eos.plot.Plotter(plot_args,'uncertainty_fbs.png').plot()"
   ]
  },
  {
   "cell_type": "code",
   "execution_count": 56,
   "metadata": {},
   "outputs": [
    {
     "name": "stderr",
     "output_type": "stream",
     "text": [
      "WARNING:EOS:Argument plot:x:format is only used when plot:x:scale is used\n",
      "WARNING:EOS:Argument plot:y:format is only used when plot:y:scale is used\n"
     ]
    },
    {
     "data": {
      "image/png": "[encoded data removed]",
      "text/plain": [
       "<Figure size 432x288 with 1 Axes>"
      ]
     },
     "metadata": {},
     "output_type": "display_data"
    }
   ],
   "source": [
    "plot_args = {\n",
    "    'plot': {\n",
    "        'x': { 'label': r'$f_{B_{s}}$','unit': r'$\\rm{GeV}$' ,'range': [.18, 0.28], 'format': '${x:.3f}$' },\n",
    "        'y': { 'label': r'$\\rm{Re}(C_{10})$', 'range': [-5.5, -2], 'format': '${x:.2f}$' },\n",
    "        'legend':{'location': 'lower right'}\n",
    "    },\n",
    "    'contents': [\n",
    "\n",
    "              {\n",
    "            'type': 'kde2D', 'color': 'C1', 'label': 'combination',\n",
    "            'range': [0.18, 0.28], 'levels': [0,68.2689,95.45], 'bandwidth': 3,\n",
    "            'data': { 'samples': samples[:, (0,1)], },\n",
    "            'contours': ['lines']\n",
    "        },\n",
    "        \n",
    "        {\n",
    "            'label': 'theory', \n",
    "            'type': 'point', 'color': 'black', 'opacity': 5, 'markersize': 12,\n",
    "            'x': 0.2307,\n",
    "            'y': -4.16611761,\n",
    "            'marker': 'x'\n",
    "        }\n",
    "        \n",
    "    ] \n",
    "            \n",
    "}\n",
    "eos.plot.Plotter(plot_args,'uncertaintycombi_fbs.png').plot()"
   ]
  },
  {
   "cell_type": "markdown",
   "metadata": {},
   "source": [
    "# 2. The decays $B \\to K^{(*)}\\mu^+\\mu^-$"
   ]
  },
  {
   "cell_type": "markdown",
   "metadata": {},
   "source": [
    "This section of the notebook involves the other $b \\to s\\ell^+\\ell^-$ transitions and their clean observables: $R_K$ and $R_{K^*}$ and respective branching ratios."
   ]
  },
  {
   "cell_type": "markdown",
   "metadata": {},
   "source": [
    "## Listing the relevant observables and constraints"
   ]
  },
  {
   "cell_type": "code",
   "execution_count": 57,
   "metadata": {},
   "outputs": [
    {
     "data": {
      "text/html": [
       "<table>\n",
       "  <tr><th style=\"text-align:left\" colspan=2><big>Observables in rare (semi)leptonic and radiative $b$-hadron decays</big></th></tr>\n",
       "    <tr><th style=\"text-align:left\" colspan=2>Observables in $B_q \\to P \\ell^+\\ell^-$ decays</th></tr>\n",
       "      <tr><th><tt style=\"color:grey\">B->Kll::A_CP@LargeRecoil</tt></th><td style=\"text-align:left\">$$A_\\mathrm{CP}(\\bar{B}\\to \\bar{K}\\ell^+\\ell^-)$$</td></tr>      <tr><th><tt style=\"color:grey\">B->Kll::A_FB(q2)@LargeRecoil</tt></th><td style=\"text-align:left\">$$A_\\mathrm{FB}(\\bar{B}\\to \\bar{K}\\ell^+\\ell^-)(q^2)$$</td></tr>      <tr><th><tt style=\"color:grey\">B->Kll::A_FB@LargeRecoil</tt></th><td style=\"text-align:left\">$$A_\\mathrm{FB}(\\bar{B}\\to \\bar{K}\\ell^+\\ell^-)$$</td></tr>      <tr><th><tt style=\"color:grey\">B->Kll::BR@LargeRecoil</tt></th><td style=\"text-align:left\">$$\\mathcal{B}(\\bar{B}\\to \\bar{K}\\ell^+\\ell^-)$$</td></tr>      <tr><th><tt style=\"color:grey\">B->Kll::F_H(q2)@LargeRecoil</tt></th><td style=\"text-align:left\">$$F_\\mathrm{H}(\\bar{B}\\to \\bar{K}\\ell^+\\ell^-)(q^2)$$</td></tr>      <tr><th><tt style=\"color:grey\">B->Kll::F_H@LargeRecoil</tt></th><td style=\"text-align:left\">$$F_\\mathrm{H}(\\bar{B}\\to \\bar{K}\\ell^+\\ell^-)$$</td></tr>      <tr><th><tt style=\"color:grey\">B->Kll::R_K(q2)@LargeRecoil</tt></th><td style=\"text-align:left\">$$R_K(q^2)$$</td></tr>      <tr><th><tt style=\"color:grey\">B->Kll::R_K@LargeRecoil</tt></th><td style=\"text-align:left\">$$R_K$$</td></tr>      <tr><th><tt style=\"color:grey\">B->Kll::dBR/ds@LargeRecoil</tt></th><td style=\"text-align:left\">$$d\\mathcal{B}(\\bar{B}\\to \\bar{K}\\ell^+\\ell^-)/dq^2$$</td></tr>      <tr><th><tt style=\"color:grey\">B->Kll::d^2Gamma@LargeRecoil</tt></th><td style=\"text-align:left\">$$d^2\\mathcal{\\Gamma(\\bar{B}\\to \\bar{K}\\ell^+\\ell^-)}/(dq^2\\, d\\cos\\theta_\\ell)$$</td></tr>    <tr><td style=\"text-align:left\" colspan=2>The option \"l\" selects the charged lepton flavour. The option \"q\" selects the spectator quark flavour.</td></tr>\n",
       "</table>"
      ],
      "text/plain": [
       "<eos.observable.Observables at 0x7f5aeba590a0>"
      ]
     },
     "execution_count": 57,
     "metadata": {},
     "output_type": "execute_result"
    }
   ],
   "source": [
    "eos.Observables('B->Kll')"
   ]
  },
  {
   "cell_type": "code",
   "execution_count": 58,
   "metadata": {},
   "outputs": [
    {
     "data": {
      "text/html": [
       "<table>\n",
       "<tr><th style=\"text-align:left\">Name</th><th style=\"text-align:left\">Type</th></tr><tr><td><tt style=\"color:grey\">B^+->K^+mu^+mu^-::A_FB[1.00,6.00]@Belle-2009</tt></td><td style=\"text-align:left\">Gaussian</td></tr><tr><td><tt style=\"color:grey\">B^+->K^+mu^+mu^-::A_FB[1.00,6.00]@CDF-2011</tt></td><td style=\"text-align:left\">Gaussian</td></tr><tr><td><tt style=\"color:grey\">B^+->K^+mu^+mu^-::A_FB[1.00,6.00]@CDF-2012</tt></td><td style=\"text-align:left\">Gaussian</td></tr><tr><td><tt style=\"color:grey\">B^+->K^+mu^+mu^-::A_FB[1.00,6.00]@LHCb-2012</tt></td><td style=\"text-align:left\">Gaussian</td></tr><tr><td><tt style=\"color:grey\">B^+->K^+mu^+mu^-::A_FB[1.10,6.00]@LHCb-2014</tt></td><td style=\"text-align:left\">Gaussian</td></tr><tr><td><tt style=\"color:grey\">B^+->K^+mu^+mu^-::A_FB[14.18,16.00]@Belle-2009</tt></td><td style=\"text-align:left\">Gaussian</td></tr><tr><td><tt style=\"color:grey\">B^+->K^+mu^+mu^-::A_FB[14.18,16.00]@CDF-2011</tt></td><td style=\"text-align:left\">Gaussian</td></tr><tr><td><tt style=\"color:grey\">B^+->K^+mu^+mu^-::A_FB[14.18,16.00]@CDF-2012</tt></td><td style=\"text-align:left\">Gaussian</td></tr><tr><td><tt style=\"color:grey\">B^+->K^+mu^+mu^-::A_FB[14.18,16.00]@LHCb-2012</tt></td><td style=\"text-align:left\">Gaussian</td></tr><tr><td><tt style=\"color:grey\">B^+->K^+mu^+mu^-::A_FB[15.00,22.00]@LHCb-2014</tt></td><td style=\"text-align:left\">Gaussian</td></tr><tr><td><tt style=\"color:grey\">B^+->K^+mu^+mu^-::A_FB[16.00,18.00]@LHCb-2012</tt></td><td style=\"text-align:left\">Gaussian</td></tr><tr><td><tt style=\"color:grey\">B^+->K^+mu^+mu^-::A_FB[16.00,22.86]@Belle-2009</tt></td><td style=\"text-align:left\">Gaussian</td></tr><tr><td><tt style=\"color:grey\">B^+->K^+mu^+mu^-::A_FB[16.00,22.86]@CDF-2011</tt></td><td style=\"text-align:left\">Gaussian</td></tr><tr><td><tt style=\"color:grey\">B^+->K^+mu^+mu^-::A_FB[16.00,22.86]@CDF-2012</tt></td><td style=\"text-align:left\">Gaussian</td></tr><tr><td><tt style=\"color:grey\">B^+->K^+mu^+mu^-::A_FB[18.00,22.00]@LHCb-2012</tt></td><td style=\"text-align:left\">Gaussian</td></tr><tr><td><tt style=\"color:grey\">B^+->K^+mu^+mu^-::BR[1.00,6.00]@BaBar-2012</tt></td><td style=\"text-align:left\">Gaussian</td></tr><tr><td><tt style=\"color:grey\">B^+->K^+mu^+mu^-::BR[1.00,6.00]@Belle-2009</tt></td><td style=\"text-align:left\">Gaussian</td></tr><tr><td><tt style=\"color:grey\">B^+->K^+mu^+mu^-::BR[1.00,6.00]@CDF-2011</tt></td><td style=\"text-align:left\">Gaussian</td></tr><tr><td><tt style=\"color:grey\">B^+->K^+mu^+mu^-::BR[1.00,6.00]@CDF-2012</tt></td><td style=\"text-align:left\">Gaussian</td></tr><tr><td><tt style=\"color:grey\">B^+->K^+mu^+mu^-::BR[1.00,6.00]@LHCb-2012</tt></td><td style=\"text-align:left\">Gaussian</td></tr><tr><td><tt style=\"color:grey\">B^+->K^+mu^+mu^-::BR[1.10,2.00]@LHCb-2014</tt></td><td style=\"text-align:left\">Gaussian</td></tr><tr><td><tt style=\"color:grey\">B^+->K^+mu^+mu^-::BR[1.10,6.00]@LHCb-2014</tt></td><td style=\"text-align:left\">Gaussian</td></tr><tr><td><tt style=\"color:grey\">B^+->K^+mu^+mu^-::BR[14.18,16.00]@Belle-2009</tt></td><td style=\"text-align:left\">Gaussian</td></tr><tr><td><tt style=\"color:grey\">B^+->K^+mu^+mu^-::BR[14.18,16.00]@CDF-2011</tt></td><td style=\"text-align:left\">Gaussian</td></tr><tr><td><tt style=\"color:grey\">B^+->K^+mu^+mu^-::BR[14.18,16.00]@CDF-2012</tt></td><td style=\"text-align:left\">Gaussian</td></tr><tr><td><tt style=\"color:grey\">B^+->K^+mu^+mu^-::BR[14.18,16.00]@LHCb-2012</tt></td><td style=\"text-align:left\">Gaussian</td></tr><tr><td><tt style=\"color:grey\">B^+->K^+mu^+mu^-::BR[14.21,16.00]@BaBar-2012</tt></td><td style=\"text-align:left\">Gaussian</td></tr><tr><td><tt style=\"color:grey\">B^+->K^+mu^+mu^-::BR[15.00,22.00]@LHCb-2014</tt></td><td style=\"text-align:left\">Gaussian</td></tr><tr><td><tt style=\"color:grey\">B^+->K^+mu^+mu^-::BR[16.00,18.00]@LHCb-2012</tt></td><td style=\"text-align:left\">Gaussian</td></tr><tr><td><tt style=\"color:grey\">B^+->K^+mu^+mu^-::BR[16.00,22.86]@BaBar-2012</tt></td><td style=\"text-align:left\">Gaussian</td></tr><tr><td><tt style=\"color:grey\">B^+->K^+mu^+mu^-::BR[16.00,22.86]@Belle-2009</tt></td><td style=\"text-align:left\">Gaussian</td></tr><tr><td><tt style=\"color:grey\">B^+->K^+mu^+mu^-::BR[16.00,22.86]@CDF-2011</tt></td><td style=\"text-align:left\">Gaussian</td></tr><tr><td><tt style=\"color:grey\">B^+->K^+mu^+mu^-::BR[16.00,22.86]@CDF-2012</tt></td><td style=\"text-align:left\">Gaussian</td></tr><tr><td><tt style=\"color:grey\">B^+->K^+mu^+mu^-::BR[18.00,22.00]@LHCb-2012</tt></td><td style=\"text-align:left\">Gaussian</td></tr><tr><td><tt style=\"color:grey\">B^+->K^+mu^+mu^-::BR[2.00,3.00]@LHCb-2014</tt></td><td style=\"text-align:left\">Gaussian</td></tr><tr><td><tt style=\"color:grey\">B^+->K^+mu^+mu^-::BR[3.00,4.00]@LHCb-2014</tt></td><td style=\"text-align:left\">Gaussian</td></tr><tr><td><tt style=\"color:grey\">B^+->K^+mu^+mu^-::BR[4.00,5.00]@LHCb-2014</tt></td><td style=\"text-align:left\">Gaussian</td></tr><tr><td><tt style=\"color:grey\">B^+->K^+mu^+mu^-::BR[5.00,6.00]@LHCb-2014</tt></td><td style=\"text-align:left\">Gaussian</td></tr><tr><td><tt style=\"color:grey\">B^+->K^+mu^+mu^-::F_H[1.00,6.00]@LHCb-2012</tt></td><td style=\"text-align:left\">Gaussian</td></tr><tr><td><tt style=\"color:grey\">B^+->K^+mu^+mu^-::F_H[1.10,6.00]@LHCb-2014</tt></td><td style=\"text-align:left\">Gaussian</td></tr><tr><td><tt style=\"color:grey\">B^+->K^+mu^+mu^-::F_H[14.18,16.00]@LHCb-2012</tt></td><td style=\"text-align:left\">Gaussian</td></tr><tr><td><tt style=\"color:grey\">B^+->K^+mu^+mu^-::F_H[15.00,22.00]@LHCb-2014</tt></td><td style=\"text-align:left\">Gaussian</td></tr><tr><td><tt style=\"color:grey\">B^+->K^+mu^+mu^-::F_H[16.00,18.00]@LHCb-2012</tt></td><td style=\"text-align:left\">Gaussian</td></tr><tr><td><tt style=\"color:grey\">B^+->K^+mu^+mu^-::F_H[18.00,22.00]@LHCb-2012</tt></td><td style=\"text-align:left\">Gaussian</td></tr></table>"
      ],
      "text/plain": [
       "<eos.constraint.Constraints at 0x7f5b7a4cf618>"
      ]
     },
     "execution_count": 58,
     "metadata": {},
     "output_type": "execute_result"
    }
   ],
   "source": [
    "eos.Constraints('B^+->K^+mu^+mu^-')"
   ]
  },
  {
   "cell_type": "markdown",
   "metadata": {},
   "source": [
    "A manual constraint is made to include most recent measurment of $R_K$ [arXiv:2103.13370]. "
   ]
  },
  {
   "cell_type": "code",
   "execution_count": 59,
   "metadata": {},
   "outputs": [
    {
     "data": {
      "text/plain": [
       "<_eos.ConstraintEntry at 0x7f5b79f22d40>"
      ]
     },
     "execution_count": 59,
     "metadata": {},
     "output_type": "execute_result"
    }
   ],
   "source": [
    "eos.Constraints().insert('B^+->K^+mu^+mu^-::R_K@LargeRecoilLHCb2021A','''\n",
    "type: Gaussian\n",
    "observable: B->Kll::R_K@LargeRecoil\n",
    "kinematics: {q2_min: 1.1, q2_max: 6}\n",
    "options: {l: mu}\n",
    "mean: 0.846\n",
    "sigma-stat: {hi: +0.042, lo: -0.039}\n",
    "sigma-sys:  {hi: +0.013, lo: -0.012}\n",
    "dof: 1\n",
    "''')"
   ]
  },
  {
   "cell_type": "code",
   "execution_count": 60,
   "metadata": {},
   "outputs": [
    {
     "data": {
      "text/html": [
       "<table>\n",
       "<tr><th style=\"text-align:left\">Name</th><th style=\"text-align:left\">Type</th></tr><tr><td><tt style=\"color:grey\">B^+->K^*+mu^+mu^-::BR[1.00,6.00]@CDF-2011</tt></td><td style=\"text-align:left\">Gaussian</td></tr><tr><td><tt style=\"color:grey\">B^+->K^*+mu^+mu^-::BR[1.00,6.00]@CDF-2012</tt></td><td style=\"text-align:left\">Gaussian</td></tr><tr><td><tt style=\"color:grey\">B^+->K^*+mu^+mu^-::BR[14.18,16.00]@CDF-2011</tt></td><td style=\"text-align:left\">Gaussian</td></tr><tr><td><tt style=\"color:grey\">B^+->K^*+mu^+mu^-::BR[14.18,16.00]@CDF-2012</tt></td><td style=\"text-align:left\">Gaussian</td></tr><tr><td><tt style=\"color:grey\">B^+->K^*+mu^+mu^-::BR[16.00,19.21]@CDF-2011</tt></td><td style=\"text-align:left\">Gaussian</td></tr><tr><td><tt style=\"color:grey\">B^+->K^*+mu^+mu^-::BR[16.00,19.21]@CDF-2012</tt></td><td style=\"text-align:left\">Gaussian</td></tr></table>"
      ],
      "text/plain": [
       "<eos.constraint.Constraints at 0x7f5b7a27db58>"
      ]
     },
     "execution_count": 60,
     "metadata": {},
     "output_type": "execute_result"
    }
   ],
   "source": [
    "eos.Constraints('B^+->K^*+mu^+mu^-')"
   ]
  },
  {
   "cell_type": "markdown",
   "metadata": {},
   "source": [
    "A manual constraint is made for $R_{K^*}$, with the value taken from 2017 measurments [arXiv:1704.06240]"
   ]
  },
  {
   "cell_type": "code",
   "execution_count": 61,
   "metadata": {},
   "outputs": [
    {
     "data": {
      "text/plain": [
       "<_eos.ConstraintEntry at 0x7f5b7a05e920>"
      ]
     },
     "execution_count": 61,
     "metadata": {},
     "output_type": "execute_result"
    }
   ],
   "source": [
    "eos.Constraints().insert('B^+->K^*+mu^+mu^-::R_K^*@LargeRecoilLHCb2017A','''\n",
    "type: Gaussian\n",
    "observable: 'B->K^*ll::R_K^*@LargeRecoil'\n",
    "kinematics: {q2_min: 1.1, q2_max: 6}\n",
    "options: {l: mu}\n",
    "mean: 0.685\n",
    "sigma-stat: {hi: +0.113, lo: -0.069 }\n",
    "sigma-sys:  {hi: +0.047, lo: -0.047}\n",
    "dof: 1\n",
    "''')"
   ]
  },
  {
   "cell_type": "markdown",
   "metadata": {},
   "source": [
    "## Making the analysis: "
   ]
  },
  {
   "cell_type": "code",
   "execution_count": 62,
   "metadata": {},
   "outputs": [
    {
     "name": "stderr",
     "output_type": "stream",
     "text": [
      "INFO:EOS:Creating analysis with 2 priors, 1 EOS-wide constraints, 1 global options, 0 manually-entered constraints and 0 fixed parameters.\n",
      "INFO:EOS:likelihood probably depends on 148 parameter(s) that do not appear in the prior; check prior?\n",
      "INFO:EOS:Creating analysis with 2 priors, 1 EOS-wide constraints, 1 global options, 0 manually-entered constraints and 0 fixed parameters.\n",
      "INFO:EOS:likelihood probably depends on 162 parameter(s) that do not appear in the prior; check prior?\n",
      "INFO:EOS:Creating analysis with 1 priors, 1 EOS-wide constraints, 1 global options, 0 manually-entered constraints and 0 fixed parameters.\n",
      "INFO:EOS:likelihood probably depends on 137 parameter(s) that do not appear in the prior; check prior?\n",
      "INFO:EOS:Creating analysis with 1 priors, 2 EOS-wide constraints, 1 global options, 0 manually-entered constraints and 0 fixed parameters.\n",
      "INFO:EOS:likelihood probably depends on 175 parameter(s) that do not appear in the prior; check prior?\n"
     ]
    }
   ],
   "source": [
    "RK_analysis_args={\n",
    "    'global_options':{'model':'WilsonScan'},\n",
    "    'priors':[\n",
    "        {'parameter': 'b->smumu::Re{c9}','min':-8, 'max':+8, 'type': 'uniform'},\n",
    "        {'parameter':'b->smumu::Re{c10}','min':-8,'max':+8,'type':'uniform'},\n",
    "        \n",
    "    ],\n",
    "    'likelihood':[\n",
    "        'B^+->K^+mu^+mu^-::R_K@LargeRecoilLHCb2021A',\n",
    "        \n",
    "    ]\n",
    "}\n",
    "RKstar_analysis_args={\n",
    "    'global_options':{'model':'WilsonScan'},\n",
    "    'priors':[\n",
    "        {'parameter': 'b->smumu::Re{c9}','min':-8, 'max':+8, 'type': 'uniform'},\n",
    "        {'parameter':'b->smumu::Re{c10}','min':-8,'max':+8,'type':'uniform'},\n",
    "        \n",
    "    ],\n",
    "    'likelihood':[\n",
    "        'B^+->K^*+mu^+mu^-::R_K^*@LargeRecoilLHCb2017A',\n",
    "\n",
    "        \n",
    "    ]\n",
    "}\n",
    "Bsmumu_analysis_args={\n",
    "    'global_options':{'model':'WilsonScan'},\n",
    "    'priors':[\n",
    "         {'parameter':'b->smumu::Re{c10}','min':-8,'max':0,'type':'uniform'},\n",
    "    ],\n",
    "    'likelihood':[\n",
    "        'B^0_s->mu^+mu^-::BR@LHCb-2021A'\n",
    "    ]\n",
    "}\n",
    "combi_analysis_args={\n",
    "    'global_options':{'model':'WilsonScan'},\n",
    "    'priors':[\n",
    "        {'parameter': 'b->smumu::Re{c9}','min':-8, 'max':+8, 'type': 'uniform'},\n",
    "\n",
    "        \n",
    "    ],\n",
    "    'likelihood':[\n",
    "          'B^+->K^+mu^+mu^-::R_K@LargeRecoilLHCb2021A', 'B^+->K^*+mu^+mu^-::R_K^*@LargeRecoilLHCb2017A',\n",
    "    ]\n",
    "\n",
    "}\n",
    "analysis1=eos.Analysis(**RK_analysis_args)\n",
    "analysis2=eos.Analysis(**RKstar_analysis_args)\n",
    "analysis3=eos.Analysis(**Bsmumu_analysis_args)\n",
    "analysis4=eos.Analysis(**combi_analysis_args)"
   ]
  },
  {
   "cell_type": "code",
   "execution_count": 63,
   "metadata": {},
   "outputs": [
    {
     "name": "stderr",
     "output_type": "stream",
     "text": [
      "INFO:EOS:Prerun 0 out of 5\n",
      "INFO:EOS:Prerun 0: acceptance rate is  13%\n",
      "INFO:EOS:Prerun 1 out of 5\n",
      "INFO:EOS:Prerun 1: acceptance rate is   5%\n",
      "INFO:EOS:Prerun 2 out of 5\n",
      "INFO:EOS:Prerun 2: acceptance rate is   8%\n",
      "INFO:EOS:Prerun 3 out of 5\n",
      "INFO:EOS:Prerun 3: acceptance rate is   7%\n",
      "INFO:EOS:Prerun 4 out of 5\n",
      "INFO:EOS:Prerun 4: acceptance rate is   8%\n",
      "INFO:EOS:Main run: started ...\n",
      "INFO:EOS:Main run: acceptance rate is   9%\n",
      "INFO:EOS:Prerun 0 out of 5\n",
      "INFO:EOS:Prerun 0: acceptance rate is  32%\n",
      "INFO:EOS:Prerun 1 out of 5\n",
      "INFO:EOS:Prerun 1: acceptance rate is  13%\n",
      "INFO:EOS:Prerun 2 out of 5\n",
      "INFO:EOS:Prerun 2: acceptance rate is  18%\n",
      "INFO:EOS:Prerun 3 out of 5\n",
      "INFO:EOS:Prerun 3: acceptance rate is  14%\n",
      "INFO:EOS:Prerun 4 out of 5\n",
      "INFO:EOS:Prerun 4: acceptance rate is  18%\n",
      "INFO:EOS:Main run: started ...\n",
      "INFO:EOS:Main run: acceptance rate is  19%\n",
      "INFO:EOS:Prerun 0 out of 5\n",
      "INFO:EOS:Prerun 0: acceptance rate is  47%\n",
      "INFO:EOS:Prerun 1 out of 5\n",
      "INFO:EOS:Prerun 1: acceptance rate is  39%\n",
      "INFO:EOS:Prerun 2 out of 5\n",
      "INFO:EOS:Prerun 2: acceptance rate is  31%\n",
      "INFO:EOS:Prerun 3 out of 5\n",
      "INFO:EOS:Prerun 3: acceptance rate is  29%\n",
      "INFO:EOS:Prerun 4 out of 5\n",
      "INFO:EOS:Prerun 4: acceptance rate is  27%\n",
      "INFO:EOS:Main run: started ...\n",
      "INFO:EOS:Main run: acceptance rate is  32%\n",
      "INFO:EOS:Prerun 0 out of 5\n",
      "INFO:EOS:Prerun 0: acceptance rate is  21%\n",
      "INFO:EOS:Prerun 1 out of 5\n",
      "INFO:EOS:Prerun 1: acceptance rate is   6%\n",
      "INFO:EOS:Prerun 2 out of 5\n",
      "INFO:EOS:Prerun 2: acceptance rate is  16%\n",
      "INFO:EOS:Prerun 3 out of 5\n",
      "INFO:EOS:Prerun 3: acceptance rate is  24%\n",
      "INFO:EOS:Prerun 4 out of 5\n",
      "INFO:EOS:Prerun 4: acceptance rate is  34%\n",
      "INFO:EOS:Main run: started ...\n",
      "INFO:EOS:Main run: acceptance rate is  37%\n"
     ]
    }
   ],
   "source": [
    "samples1,_=analysis1.sample(N=5000,preruns=5,pre_N=500)\n",
    "samples2,_=analysis2.sample(N=5000,preruns=5,pre_N=500)\n",
    "samples3,_=analysis3.sample(N=5000,preruns=5,pre_N=500)\n",
    "samples4,_=analysis4.sample(N=5000,preruns=5,pre_N=500)"
   ]
  },
  {
   "cell_type": "markdown",
   "metadata": {},
   "source": [
    "## 1. $R_K$ in $C_{9}$ and $C_{10}$"
   ]
  },
  {
   "cell_type": "code",
   "execution_count": 64,
   "metadata": {},
   "outputs": [
    {
     "data": {
      "image/png": "[encoded data removed]",
      "text/plain": [
       "<Figure size 432x288 with 1 Axes>"
      ]
     },
     "metadata": {},
     "output_type": "display_data"
    }
   ],
   "source": [
    "plot_args = {\n",
    "    'plot': {\n",
    "        'x': { 'label': r'$\\rm{Re}({C}_{9})$' ,'range': [-15.0, +15.0] },\n",
    "        'y': { 'label': r'$\\rm{Re}({C}_{10})$', 'range': [-15.0, +15.0]},\n",
    "        'legend':{'location': 'lower left'}\n",
    "        \n",
    "    },\n",
    "    'contents': [\n",
    "        \n",
    "        {\n",
    "            'type': 'kde2D', 'color': 'C0', 'label': r'$R_K$',\n",
    "            'range': [-1.5, +1.5], 'levels': [68.27,95.45], 'bandwidth': 3,\n",
    "            'data': { 'samples': samples1[:, (0,1)], },\n",
    "            'contours': ['lines']\n",
    "        },\n",
    "\n",
    "        {\n",
    "            'label': 'theory', \n",
    "            'type': 'point', 'color': 'black', 'opacity': 5, 'markersize': 12,\n",
    "            'x': 0.0,\n",
    "            'y': 0.0,\n",
    "            'marker': 'x'\n",
    "        }\n",
    "    ] \n",
    "            \n",
    "}\n",
    "eos.plot.Plotter(plot_args, 'RK.png').plot()"
   ]
  },
  {
   "cell_type": "markdown",
   "metadata": {},
   "source": [
    "## 2. $R_{K^*}$ in $C_{9}$ and $C_{10}$"
   ]
  },
  {
   "cell_type": "code",
   "execution_count": 65,
   "metadata": {},
   "outputs": [
    {
     "data": {
      "image/png": "[encoded data removed]",
      "text/plain": [
       "<Figure size 432x288 with 1 Axes>"
      ]
     },
     "metadata": {},
     "output_type": "display_data"
    }
   ],
   "source": [
    "plot_args = {\n",
    "    'plot': {\n",
    "        'x': { 'label': r'$\\rm{Re}(C_{9})$' ,'range': [-15.0, +15.0] },\n",
    "        'y': { 'label': r'$\\rm{Re}({C}_{10})$', 'range': [-15.0, +15.0]},\n",
    "        'legend':{'location': 'lower left'}\n",
    "        \n",
    "    },\n",
    "    'contents': [\n",
    "        \n",
    "        {\n",
    "            'type': 'kde2D', 'color': 'C1', 'label': r'$R_{K*}$',\n",
    "            'range': [-1.5, +1.5], 'levels': [68.2689,95.45], 'bandwidth': 3,\n",
    "            'data': { 'samples': samples2[:, (0,1)], },\n",
    "            'contours': ['lines']\n",
    "        },\n",
    "\n",
    "        {\n",
    "            'label': 'theory', \n",
    "            'type': 'point', 'color': 'black', 'opacity': 5, 'markersize': 12,\n",
    "            'x': 0.0,\n",
    "            'y': 0.0,\n",
    "            'marker': 'x'\n",
    "        }\n",
    "    ] \n",
    "            \n",
    "}\n",
    "eos.plot.Plotter(plot_args,'RKstar.png').plot()"
   ]
  },
  {
   "cell_type": "markdown",
   "metadata": {},
   "source": [
    "## 3. Combined fit of the clean $R_K$, $R_{K^*}$ and $\\mathcal{B}(B^0_s \\to \\mu^+\\mu^-)$ observables in the $b \\to s\\ell^+\\ell^-$ transitions"
   ]
  },
  {
   "cell_type": "code",
   "execution_count": 66,
   "metadata": {},
   "outputs": [
    {
     "data": {
      "image/png": "[encoded data removed]",
      "text/plain": [
       "<Figure size 432x288 with 1 Axes>"
      ]
     },
     "metadata": {},
     "output_type": "display_data"
    }
   ],
   "source": [
    "plot_args = {\n",
    "    'plot': {\n",
    "        'x': { 'label': r'$\\rm{Re}({C}_{9})$' ,'range': [-15.0, +15.0] },\n",
    "        'y': { 'label': r'$\\rm{Re}({C}_{10})$', 'range': [-15.0, +15.0]},\n",
    "        'legend':{'location': 'lower left'}\n",
    "        \n",
    "    },\n",
    "    'contents': [\n",
    "        \n",
    "        {\n",
    "            'type': 'kde2D', 'color': 'C0', 'label': r'$R_K$',\n",
    "            'range': [-1.5, +1.5], 'levels': [68.27,95.45], 'bandwidth': 3,\n",
    "            'data': { 'samples': samples1[:, (0,1)], },\n",
    "            'contours': ['lines']\n",
    "        },\n",
    "        {\n",
    "            'type': 'kde2D', 'color': 'C1', 'label': r'$R_{K*}$',\n",
    "            'range': [-1.5, +1.5], 'levels': [68.27,95.45], 'bandwidth': 3,\n",
    "            'data': { 'samples': samples2[:, (0,1)], },\n",
    "            'contours': ['lines']\n",
    "        },\n",
    "\n",
    "        {\n",
    "                     \n",
    "            'label': r'$B^0_s \\to \\mu^+\\mu^-$',\n",
    "            'type': 'band',\n",
    "            'color': 'C4',\n",
    "            'x': [-15,+15],\n",
    "            'y': [-4.38584136, -3.1524644],\n",
    "            \n",
    "            \n",
    "        },\n",
    "\n",
    "        {\n",
    "            'label': 'theory', \n",
    "            'type': 'point', 'color': 'black', 'opacity': 5, 'markersize': 12,\n",
    "            'x': 0.0,\n",
    "            'y': 0.0,\n",
    "            'marker': 'x'\n",
    "        }\n",
    "    ] \n",
    "            \n",
    "}\n",
    "eos.plot.Plotter(plot_args, 'global.png').plot()"
   ]
  }
 ],
 "metadata": {
  "kernelspec": {
   "display_name": "Python 3",
   "language": "python",
   "name": "python3"
  },
  "language_info": {
   "codemirror_mode": {
    "name": "ipython",
    "version": 3
   },
   "file_extension": ".py",
   "mimetype": "text/x-python",
   "name": "python",
   "nbconvert_exporter": "python",
   "pygments_lexer": "ipython3",
   "version": "3.6.9"
  }
 },
 "nbformat": 4,
 "nbformat_minor": 2
}
